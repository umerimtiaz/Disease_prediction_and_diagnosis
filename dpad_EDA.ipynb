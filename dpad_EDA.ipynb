{
 "cells": [
  {
   "cell_type": "code",
   "execution_count": 157,
   "metadata": {},
   "outputs": [],
   "source": [
    "import pandas as pd\n",
    "import numpy as np\n",
    "import matplotlib.pyplot as plt\n",
    "import plotly as pltly\n",
    "import plotly.express as px\n",
    "\n",
    "# https://www.archive.ics.uci.edu/dataset/16/breast+cancer+wisconsin+prognostic"
   ]
  },
  {
   "cell_type": "code",
   "execution_count": 158,
   "metadata": {},
   "outputs": [],
   "source": [
    "# Importing data from the source\n",
    "from ucimlrepo import fetch_ucirepo \n",
    "  \n",
    "# fetch dataset \n",
    "breast_cancer_wisconsin_prognostic = fetch_ucirepo(id=16) \n",
    "  \n",
    "# data (as pandas dataframes) \n",
    "X = breast_cancer_wisconsin_prognostic.data.features \n",
    "y = breast_cancer_wisconsin_prognostic.data.targets "
   ]
  },
  {
   "cell_type": "code",
   "execution_count": 159,
   "metadata": {},
   "outputs": [
    {
     "name": "stdout",
     "output_type": "stream",
     "text": [
      "<class 'pandas.core.frame.DataFrame'>\n",
      "RangeIndex: 198 entries, 0 to 197\n",
      "Data columns (total 35 columns):\n",
      " #   Column              Non-Null Count  Dtype  \n",
      "---  ------              --------------  -----  \n",
      " 0   Time                198 non-null    int64  \n",
      " 1   radius1             198 non-null    float64\n",
      " 2   texture1            198 non-null    float64\n",
      " 3   perimeter1          198 non-null    float64\n",
      " 4   area1               198 non-null    float64\n",
      " 5   smoothness1         198 non-null    float64\n",
      " 6   compactness1        198 non-null    float64\n",
      " 7   concavity1          198 non-null    float64\n",
      " 8   concave_points1     198 non-null    float64\n",
      " 9   symmetry1           198 non-null    float64\n",
      " 10  fractal_dimension1  198 non-null    float64\n",
      " 11  radius2             198 non-null    float64\n",
      " 12  texture2            198 non-null    float64\n",
      " 13  perimeter2          198 non-null    float64\n",
      " 14  area2               198 non-null    float64\n",
      " 15  smoothness2         198 non-null    float64\n",
      " 16  compactness2        198 non-null    float64\n",
      " 17  concavity2          198 non-null    float64\n",
      " 18  concave_points2     198 non-null    float64\n",
      " 19  symmetry2           198 non-null    float64\n",
      " 20  fractal_dimension2  198 non-null    float64\n",
      " 21  radius3             198 non-null    float64\n",
      " 22  texture3            198 non-null    float64\n",
      " 23  perimeter3          198 non-null    float64\n",
      " 24  area3               198 non-null    float64\n",
      " 25  smoothness3         198 non-null    float64\n",
      " 26  compactness3        198 non-null    float64\n",
      " 27  concavity3          198 non-null    float64\n",
      " 28  concave_points3     198 non-null    float64\n",
      " 29  symmetry3           198 non-null    float64\n",
      " 30  fractal_dimension3  198 non-null    float64\n",
      " 31  tumor_size          198 non-null    float64\n",
      " 32  lymph_node_status   194 non-null    float64\n",
      " 33  Outcome             198 non-null    object \n",
      " 34  volume              198 non-null    float64\n",
      "dtypes: float64(33), int64(1), object(1)\n",
      "memory usage: 54.3+ KB\n"
     ]
    }
   ],
   "source": [
    "# joining X and y data frames to one dataframe\n",
    "df = pd.concat([X, y], axis=1)\n",
    "df[\"volume\"] = (4/3) * 3.14 * df[\"radius1\"] * df[\"radius2\"] * df[\"radius3\"]\n",
    "df.info()"
   ]
  },
  {
   "cell_type": "code",
   "execution_count": 160,
   "metadata": {},
   "outputs": [
    {
     "data": {
      "application/vnd.plotly.v1+json": {
       "config": {
        "plotlyServerURL": "https://plot.ly"
       },
       "data": [
        {
         "alignmentgroup": "True",
         "boxpoints": "all",
         "hovertemplate": "<b>%{hovertext}</b><br><br>N as no-recur and R as recur=%{y}<br>Tumor size or volume=%{x}<extra></extra>",
         "hovertext": [
          "N",
          "N",
          "N",
          "N",
          "N",
          "N",
          "N",
          "N",
          "N",
          "N",
          "N",
          "N",
          "N",
          "N",
          "N",
          "N",
          "N",
          "N",
          "N",
          "N",
          "N",
          "N",
          "N",
          "N",
          "N",
          "N",
          "N",
          "N",
          "N",
          "N",
          "N",
          "N",
          "N",
          "N",
          "N",
          "N",
          "N",
          "N",
          "N",
          "N",
          "N",
          "N",
          "N",
          "N",
          "N",
          "N",
          "N",
          "N",
          "N",
          "N",
          "N",
          "N",
          "N",
          "N",
          "N",
          "N",
          "N",
          "N",
          "N",
          "N",
          "N",
          "N",
          "N",
          "N",
          "N",
          "N",
          "N",
          "N",
          "N",
          "N",
          "N",
          "N",
          "N",
          "N",
          "N",
          "N",
          "N",
          "N",
          "N",
          "N",
          "N",
          "N",
          "N",
          "N",
          "N",
          "N",
          "N",
          "N",
          "N",
          "N",
          "N",
          "N",
          "N",
          "N",
          "N",
          "N",
          "N",
          "N",
          "N",
          "N",
          "N",
          "N",
          "N",
          "N",
          "N",
          "N",
          "N",
          "N",
          "N",
          "N",
          "N",
          "N",
          "N",
          "N",
          "N",
          "N",
          "N",
          "N",
          "N",
          "N",
          "N",
          "N",
          "N",
          "N",
          "N",
          "N",
          "N",
          "N",
          "N",
          "N",
          "N",
          "N",
          "N",
          "N",
          "N",
          "N",
          "N",
          "N",
          "N",
          "N",
          "N",
          "N",
          "N",
          "N",
          "N",
          "N",
          "N",
          "N",
          "N",
          "N",
          "N"
         ],
         "legendgroup": "N",
         "marker": {
          "color": "#636efa"
         },
         "name": "N",
         "notched": true,
         "offsetgroup": "N",
         "orientation": "h",
         "showlegend": true,
         "type": "box",
         "x": [
          1019.7417852048,
          2093.1737752799995,
          1304.142271504,
          353.29983104639996,
          982.2901886373335,
          258.23205512,
          234.26563937279997,
          488.44723039199994,
          682.3543214015999,
          450.67966249066666,
          554.0267517770667,
          509.2353171221334,
          1488.121365024,
          1670.0939474666668,
          273.728236464,
          1416.1078229128,
          570.00423768,
          883.5997374791999,
          402.2938525866667,
          894.0475939967998,
          1082.8935747279997,
          455.8432543306667,
          647.206145352,
          271.12725639999996,
          1142.0637242613334,
          186.684962144,
          213.78233318399998,
          139.27150473599997,
          357.9210244778666,
          173.43088976159999,
          248.0597768088,
          465.0879662170667,
          383.1411749872,
          991.955862656,
          2375.41416364,
          548.0450656768,
          285.40948234399997,
          469.387146536,
          349.8481586655999,
          499.5615447503999,
          736.293184128,
          1239.0183273599998,
          3986.3613147999995,
          928.6820701911998,
          570.6425353727999,
          183.36900370319998,
          1504.7296992,
          947.0671430976,
          217.010007008,
          1947.3136097999998,
          1812.4947114768001,
          843.7262100533334,
          1477.5144729072001,
          474.8480347482666,
          511.89817369119993,
          1483.6567813952,
          488.94998709600003,
          233.89028360533334,
          420.97334403439993,
          268.00243641599997,
          279.71155368959995,
          584.9814336695999,
          817.2922597205331,
          231.98525230399997,
          1356.7157709610665,
          626.9861969919999,
          1221.4615025946666,
          697.9473527381334,
          421.3867372176,
          234.23984891999996,
          2037.572820624,
          1686.3075694079998,
          382.05034526720004,
          249.92054461866667,
          413.782547596,
          1101.0303775893333,
          3188.0928336693337,
          882.9554415071999,
          921.951070693333,
          444.68749708000007,
          1247.0805306533332,
          407.11929573333333,
          749.6405735424001,
          1681.4469398400001,
          290.81219870693326,
          268.9780854096,
          3304.798689888,
          661.4525833344001,
          1210.3304781610666,
          837.8352617471999,
          362.3547423253333,
          424.26956543999995,
          2135.1323702613336,
          673.2219102335999,
          1153.2051417599998,
          1228.477106208,
          1223.4978991034666,
          1238.4472608351998,
          595.7114553599998,
          1202.6443196768,
          1996.8706568693333,
          1345.4100520832003,
          129.83778955093334,
          401.22075884266667,
          1040.6957753840002,
          1481.3074480485334,
          720.3423259274665,
          511.78404817226675,
          1474.1560640109333,
          1462.4628245450667,
          751.5105435199998,
          459.36520326079994,
          1506.989102528,
          1476.3868232959999,
          372.32146509999995,
          331.43429174986665,
          1395.3281396599998,
          440.10144049973337,
          368.8947856538666,
          427.57377488000003,
          913.1112520101334,
          1003.6426739976001,
          3059.053723968,
          586.455295536,
          290.48548149759995,
          2047.0239893525334,
          2701.5452710399995,
          1528.348571332,
          602.0302540373333,
          552.7811497823999,
          971.1512438677333,
          2049.0232084287995,
          1539.8017198666666,
          390.452900864,
          236.28249528479998,
          2177.829916096,
          607.4136756864,
          2440.8997440959997,
          1197.9227957093333,
          281.94649553840003,
          4974.885560632,
          4017.6980086320004,
          290.80399857599997,
          1539.71983704,
          1007.4053249866668,
          902.6299004426666,
          349.80733414400004,
          3195.896109632,
          362.609400512,
          910.4729636384002,
          835.2777704319998
         ],
         "x0": " ",
         "xaxis": "x",
         "y": [
          "N",
          "N",
          "N",
          "N",
          "N",
          "N",
          "N",
          "N",
          "N",
          "N",
          "N",
          "N",
          "N",
          "N",
          "N",
          "N",
          "N",
          "N",
          "N",
          "N",
          "N",
          "N",
          "N",
          "N",
          "N",
          "N",
          "N",
          "N",
          "N",
          "N",
          "N",
          "N",
          "N",
          "N",
          "N",
          "N",
          "N",
          "N",
          "N",
          "N",
          "N",
          "N",
          "N",
          "N",
          "N",
          "N",
          "N",
          "N",
          "N",
          "N",
          "N",
          "N",
          "N",
          "N",
          "N",
          "N",
          "N",
          "N",
          "N",
          "N",
          "N",
          "N",
          "N",
          "N",
          "N",
          "N",
          "N",
          "N",
          "N",
          "N",
          "N",
          "N",
          "N",
          "N",
          "N",
          "N",
          "N",
          "N",
          "N",
          "N",
          "N",
          "N",
          "N",
          "N",
          "N",
          "N",
          "N",
          "N",
          "N",
          "N",
          "N",
          "N",
          "N",
          "N",
          "N",
          "N",
          "N",
          "N",
          "N",
          "N",
          "N",
          "N",
          "N",
          "N",
          "N",
          "N",
          "N",
          "N",
          "N",
          "N",
          "N",
          "N",
          "N",
          "N",
          "N",
          "N",
          "N",
          "N",
          "N",
          "N",
          "N",
          "N",
          "N",
          "N",
          "N",
          "N",
          "N",
          "N",
          "N",
          "N",
          "N",
          "N",
          "N",
          "N",
          "N",
          "N",
          "N",
          "N",
          "N",
          "N",
          "N",
          "N",
          "N",
          "N",
          "N",
          "N",
          "N",
          "N",
          "N",
          "N",
          "N"
         ],
         "y0": " ",
         "yaxis": "y"
        },
        {
         "alignmentgroup": "True",
         "boxpoints": "all",
         "hovertemplate": "<b>%{hovertext}</b><br><br>N as no-recur and R as recur=%{y}<br>Tumor size or volume=%{x}<extra></extra>",
         "hovertext": [
          "R",
          "R",
          "R",
          "R",
          "R",
          "R",
          "R",
          "R",
          "R",
          "R",
          "R",
          "R",
          "R",
          "R",
          "R",
          "R",
          "R",
          "R",
          "R",
          "R",
          "R",
          "R",
          "R",
          "R",
          "R",
          "R",
          "R",
          "R",
          "R",
          "R",
          "R",
          "R",
          "R",
          "R",
          "R",
          "R",
          "R",
          "R",
          "R",
          "R",
          "R",
          "R",
          "R",
          "R",
          "R",
          "R",
          "R"
         ],
         "legendgroup": "R",
         "marker": {
          "color": "#EF553B"
         },
         "name": "R",
         "notched": true,
         "offsetgroup": "R",
         "orientation": "h",
         "showlegend": true,
         "type": "box",
         "x": [
          1449.8228784703997,
          320.98605725999994,
          571.3809103919999,
          393.25907615999995,
          805.6732080298666,
          1787.4679062581333,
          1886.9880655736,
          1120.5840991706664,
          355.29206760000005,
          1529.44664252,
          741.7296319200001,
          386.0372963786666,
          266.812976784,
          843.73582264,
          1594.1072070672,
          851.558356432,
          1224.37211136,
          1871.1513549138663,
          1229.2775888362664,
          1614.4163947296001,
          3155.7679204607994,
          327.698527576,
          304.9559569727999,
          1727.60451908,
          822.7653774791999,
          1232.1484757642663,
          652.7623416911999,
          2995.6672938,
          2355.5222108880002,
          574.5674573333333,
          3045.972345389333,
          1167.03530944,
          3550.3027052704006,
          763.5812842944,
          2569.2190594559997,
          2059.902590666667,
          806.1061369114667,
          220.2136399872,
          623.5067761800001,
          821.8949457408002,
          1103.5478092032,
          1225.3439725088003,
          1214.3434075392,
          6167.7285715200005,
          732.21446166,
          676.0750152159999,
          2757.5121537600003
         ],
         "x0": " ",
         "xaxis": "x",
         "y": [
          "R",
          "R",
          "R",
          "R",
          "R",
          "R",
          "R",
          "R",
          "R",
          "R",
          "R",
          "R",
          "R",
          "R",
          "R",
          "R",
          "R",
          "R",
          "R",
          "R",
          "R",
          "R",
          "R",
          "R",
          "R",
          "R",
          "R",
          "R",
          "R",
          "R",
          "R",
          "R",
          "R",
          "R",
          "R",
          "R",
          "R",
          "R",
          "R",
          "R",
          "R",
          "R",
          "R",
          "R",
          "R",
          "R",
          "R"
         ],
         "y0": " ",
         "yaxis": "y"
        }
       ],
       "layout": {
        "boxmode": "overlay",
        "legend": {
         "title": {
          "text": "N as no-recur and R as recur"
         },
         "tracegroupgap": 0
        },
        "template": {
         "data": {
          "bar": [
           {
            "error_x": {
             "color": "#2a3f5f"
            },
            "error_y": {
             "color": "#2a3f5f"
            },
            "marker": {
             "line": {
              "color": "#E5ECF6",
              "width": 0.5
             },
             "pattern": {
              "fillmode": "overlay",
              "size": 10,
              "solidity": 0.2
             }
            },
            "type": "bar"
           }
          ],
          "barpolar": [
           {
            "marker": {
             "line": {
              "color": "#E5ECF6",
              "width": 0.5
             },
             "pattern": {
              "fillmode": "overlay",
              "size": 10,
              "solidity": 0.2
             }
            },
            "type": "barpolar"
           }
          ],
          "carpet": [
           {
            "aaxis": {
             "endlinecolor": "#2a3f5f",
             "gridcolor": "white",
             "linecolor": "white",
             "minorgridcolor": "white",
             "startlinecolor": "#2a3f5f"
            },
            "baxis": {
             "endlinecolor": "#2a3f5f",
             "gridcolor": "white",
             "linecolor": "white",
             "minorgridcolor": "white",
             "startlinecolor": "#2a3f5f"
            },
            "type": "carpet"
           }
          ],
          "choropleth": [
           {
            "colorbar": {
             "outlinewidth": 0,
             "ticks": ""
            },
            "type": "choropleth"
           }
          ],
          "contour": [
           {
            "colorbar": {
             "outlinewidth": 0,
             "ticks": ""
            },
            "colorscale": [
             [
              0,
              "#0d0887"
             ],
             [
              0.1111111111111111,
              "#46039f"
             ],
             [
              0.2222222222222222,
              "#7201a8"
             ],
             [
              0.3333333333333333,
              "#9c179e"
             ],
             [
              0.4444444444444444,
              "#bd3786"
             ],
             [
              0.5555555555555556,
              "#d8576b"
             ],
             [
              0.6666666666666666,
              "#ed7953"
             ],
             [
              0.7777777777777778,
              "#fb9f3a"
             ],
             [
              0.8888888888888888,
              "#fdca26"
             ],
             [
              1,
              "#f0f921"
             ]
            ],
            "type": "contour"
           }
          ],
          "contourcarpet": [
           {
            "colorbar": {
             "outlinewidth": 0,
             "ticks": ""
            },
            "type": "contourcarpet"
           }
          ],
          "heatmap": [
           {
            "colorbar": {
             "outlinewidth": 0,
             "ticks": ""
            },
            "colorscale": [
             [
              0,
              "#0d0887"
             ],
             [
              0.1111111111111111,
              "#46039f"
             ],
             [
              0.2222222222222222,
              "#7201a8"
             ],
             [
              0.3333333333333333,
              "#9c179e"
             ],
             [
              0.4444444444444444,
              "#bd3786"
             ],
             [
              0.5555555555555556,
              "#d8576b"
             ],
             [
              0.6666666666666666,
              "#ed7953"
             ],
             [
              0.7777777777777778,
              "#fb9f3a"
             ],
             [
              0.8888888888888888,
              "#fdca26"
             ],
             [
              1,
              "#f0f921"
             ]
            ],
            "type": "heatmap"
           }
          ],
          "heatmapgl": [
           {
            "colorbar": {
             "outlinewidth": 0,
             "ticks": ""
            },
            "colorscale": [
             [
              0,
              "#0d0887"
             ],
             [
              0.1111111111111111,
              "#46039f"
             ],
             [
              0.2222222222222222,
              "#7201a8"
             ],
             [
              0.3333333333333333,
              "#9c179e"
             ],
             [
              0.4444444444444444,
              "#bd3786"
             ],
             [
              0.5555555555555556,
              "#d8576b"
             ],
             [
              0.6666666666666666,
              "#ed7953"
             ],
             [
              0.7777777777777778,
              "#fb9f3a"
             ],
             [
              0.8888888888888888,
              "#fdca26"
             ],
             [
              1,
              "#f0f921"
             ]
            ],
            "type": "heatmapgl"
           }
          ],
          "histogram": [
           {
            "marker": {
             "pattern": {
              "fillmode": "overlay",
              "size": 10,
              "solidity": 0.2
             }
            },
            "type": "histogram"
           }
          ],
          "histogram2d": [
           {
            "colorbar": {
             "outlinewidth": 0,
             "ticks": ""
            },
            "colorscale": [
             [
              0,
              "#0d0887"
             ],
             [
              0.1111111111111111,
              "#46039f"
             ],
             [
              0.2222222222222222,
              "#7201a8"
             ],
             [
              0.3333333333333333,
              "#9c179e"
             ],
             [
              0.4444444444444444,
              "#bd3786"
             ],
             [
              0.5555555555555556,
              "#d8576b"
             ],
             [
              0.6666666666666666,
              "#ed7953"
             ],
             [
              0.7777777777777778,
              "#fb9f3a"
             ],
             [
              0.8888888888888888,
              "#fdca26"
             ],
             [
              1,
              "#f0f921"
             ]
            ],
            "type": "histogram2d"
           }
          ],
          "histogram2dcontour": [
           {
            "colorbar": {
             "outlinewidth": 0,
             "ticks": ""
            },
            "colorscale": [
             [
              0,
              "#0d0887"
             ],
             [
              0.1111111111111111,
              "#46039f"
             ],
             [
              0.2222222222222222,
              "#7201a8"
             ],
             [
              0.3333333333333333,
              "#9c179e"
             ],
             [
              0.4444444444444444,
              "#bd3786"
             ],
             [
              0.5555555555555556,
              "#d8576b"
             ],
             [
              0.6666666666666666,
              "#ed7953"
             ],
             [
              0.7777777777777778,
              "#fb9f3a"
             ],
             [
              0.8888888888888888,
              "#fdca26"
             ],
             [
              1,
              "#f0f921"
             ]
            ],
            "type": "histogram2dcontour"
           }
          ],
          "mesh3d": [
           {
            "colorbar": {
             "outlinewidth": 0,
             "ticks": ""
            },
            "type": "mesh3d"
           }
          ],
          "parcoords": [
           {
            "line": {
             "colorbar": {
              "outlinewidth": 0,
              "ticks": ""
             }
            },
            "type": "parcoords"
           }
          ],
          "pie": [
           {
            "automargin": true,
            "type": "pie"
           }
          ],
          "scatter": [
           {
            "fillpattern": {
             "fillmode": "overlay",
             "size": 10,
             "solidity": 0.2
            },
            "type": "scatter"
           }
          ],
          "scatter3d": [
           {
            "line": {
             "colorbar": {
              "outlinewidth": 0,
              "ticks": ""
             }
            },
            "marker": {
             "colorbar": {
              "outlinewidth": 0,
              "ticks": ""
             }
            },
            "type": "scatter3d"
           }
          ],
          "scattercarpet": [
           {
            "marker": {
             "colorbar": {
              "outlinewidth": 0,
              "ticks": ""
             }
            },
            "type": "scattercarpet"
           }
          ],
          "scattergeo": [
           {
            "marker": {
             "colorbar": {
              "outlinewidth": 0,
              "ticks": ""
             }
            },
            "type": "scattergeo"
           }
          ],
          "scattergl": [
           {
            "marker": {
             "colorbar": {
              "outlinewidth": 0,
              "ticks": ""
             }
            },
            "type": "scattergl"
           }
          ],
          "scattermapbox": [
           {
            "marker": {
             "colorbar": {
              "outlinewidth": 0,
              "ticks": ""
             }
            },
            "type": "scattermapbox"
           }
          ],
          "scatterpolar": [
           {
            "marker": {
             "colorbar": {
              "outlinewidth": 0,
              "ticks": ""
             }
            },
            "type": "scatterpolar"
           }
          ],
          "scatterpolargl": [
           {
            "marker": {
             "colorbar": {
              "outlinewidth": 0,
              "ticks": ""
             }
            },
            "type": "scatterpolargl"
           }
          ],
          "scatterternary": [
           {
            "marker": {
             "colorbar": {
              "outlinewidth": 0,
              "ticks": ""
             }
            },
            "type": "scatterternary"
           }
          ],
          "surface": [
           {
            "colorbar": {
             "outlinewidth": 0,
             "ticks": ""
            },
            "colorscale": [
             [
              0,
              "#0d0887"
             ],
             [
              0.1111111111111111,
              "#46039f"
             ],
             [
              0.2222222222222222,
              "#7201a8"
             ],
             [
              0.3333333333333333,
              "#9c179e"
             ],
             [
              0.4444444444444444,
              "#bd3786"
             ],
             [
              0.5555555555555556,
              "#d8576b"
             ],
             [
              0.6666666666666666,
              "#ed7953"
             ],
             [
              0.7777777777777778,
              "#fb9f3a"
             ],
             [
              0.8888888888888888,
              "#fdca26"
             ],
             [
              1,
              "#f0f921"
             ]
            ],
            "type": "surface"
           }
          ],
          "table": [
           {
            "cells": {
             "fill": {
              "color": "#EBF0F8"
             },
             "line": {
              "color": "white"
             }
            },
            "header": {
             "fill": {
              "color": "#C8D4E3"
             },
             "line": {
              "color": "white"
             }
            },
            "type": "table"
           }
          ]
         },
         "layout": {
          "annotationdefaults": {
           "arrowcolor": "#2a3f5f",
           "arrowhead": 0,
           "arrowwidth": 1
          },
          "autotypenumbers": "strict",
          "coloraxis": {
           "colorbar": {
            "outlinewidth": 0,
            "ticks": ""
           }
          },
          "colorscale": {
           "diverging": [
            [
             0,
             "#8e0152"
            ],
            [
             0.1,
             "#c51b7d"
            ],
            [
             0.2,
             "#de77ae"
            ],
            [
             0.3,
             "#f1b6da"
            ],
            [
             0.4,
             "#fde0ef"
            ],
            [
             0.5,
             "#f7f7f7"
            ],
            [
             0.6,
             "#e6f5d0"
            ],
            [
             0.7,
             "#b8e186"
            ],
            [
             0.8,
             "#7fbc41"
            ],
            [
             0.9,
             "#4d9221"
            ],
            [
             1,
             "#276419"
            ]
           ],
           "sequential": [
            [
             0,
             "#0d0887"
            ],
            [
             0.1111111111111111,
             "#46039f"
            ],
            [
             0.2222222222222222,
             "#7201a8"
            ],
            [
             0.3333333333333333,
             "#9c179e"
            ],
            [
             0.4444444444444444,
             "#bd3786"
            ],
            [
             0.5555555555555556,
             "#d8576b"
            ],
            [
             0.6666666666666666,
             "#ed7953"
            ],
            [
             0.7777777777777778,
             "#fb9f3a"
            ],
            [
             0.8888888888888888,
             "#fdca26"
            ],
            [
             1,
             "#f0f921"
            ]
           ],
           "sequentialminus": [
            [
             0,
             "#0d0887"
            ],
            [
             0.1111111111111111,
             "#46039f"
            ],
            [
             0.2222222222222222,
             "#7201a8"
            ],
            [
             0.3333333333333333,
             "#9c179e"
            ],
            [
             0.4444444444444444,
             "#bd3786"
            ],
            [
             0.5555555555555556,
             "#d8576b"
            ],
            [
             0.6666666666666666,
             "#ed7953"
            ],
            [
             0.7777777777777778,
             "#fb9f3a"
            ],
            [
             0.8888888888888888,
             "#fdca26"
            ],
            [
             1,
             "#f0f921"
            ]
           ]
          },
          "colorway": [
           "#636efa",
           "#EF553B",
           "#00cc96",
           "#ab63fa",
           "#FFA15A",
           "#19d3f3",
           "#FF6692",
           "#B6E880",
           "#FF97FF",
           "#FECB52"
          ],
          "font": {
           "color": "#2a3f5f"
          },
          "geo": {
           "bgcolor": "white",
           "lakecolor": "white",
           "landcolor": "#E5ECF6",
           "showlakes": true,
           "showland": true,
           "subunitcolor": "white"
          },
          "hoverlabel": {
           "align": "left"
          },
          "hovermode": "closest",
          "mapbox": {
           "style": "light"
          },
          "paper_bgcolor": "white",
          "plot_bgcolor": "#E5ECF6",
          "polar": {
           "angularaxis": {
            "gridcolor": "white",
            "linecolor": "white",
            "ticks": ""
           },
           "bgcolor": "#E5ECF6",
           "radialaxis": {
            "gridcolor": "white",
            "linecolor": "white",
            "ticks": ""
           }
          },
          "scene": {
           "xaxis": {
            "backgroundcolor": "#E5ECF6",
            "gridcolor": "white",
            "gridwidth": 2,
            "linecolor": "white",
            "showbackground": true,
            "ticks": "",
            "zerolinecolor": "white"
           },
           "yaxis": {
            "backgroundcolor": "#E5ECF6",
            "gridcolor": "white",
            "gridwidth": 2,
            "linecolor": "white",
            "showbackground": true,
            "ticks": "",
            "zerolinecolor": "white"
           },
           "zaxis": {
            "backgroundcolor": "#E5ECF6",
            "gridcolor": "white",
            "gridwidth": 2,
            "linecolor": "white",
            "showbackground": true,
            "ticks": "",
            "zerolinecolor": "white"
           }
          },
          "shapedefaults": {
           "line": {
            "color": "#2a3f5f"
           }
          },
          "ternary": {
           "aaxis": {
            "gridcolor": "white",
            "linecolor": "white",
            "ticks": ""
           },
           "baxis": {
            "gridcolor": "white",
            "linecolor": "white",
            "ticks": ""
           },
           "bgcolor": "#E5ECF6",
           "caxis": {
            "gridcolor": "white",
            "linecolor": "white",
            "ticks": ""
           }
          },
          "title": {
           "x": 0.05
          },
          "xaxis": {
           "automargin": true,
           "gridcolor": "white",
           "linecolor": "white",
           "ticks": "",
           "title": {
            "standoff": 15
           },
           "zerolinecolor": "white",
           "zerolinewidth": 2
          },
          "yaxis": {
           "automargin": true,
           "gridcolor": "white",
           "linecolor": "white",
           "ticks": "",
           "title": {
            "standoff": 15
           },
           "zerolinecolor": "white",
           "zerolinewidth": 2
          }
         }
        },
        "title": {
         "text": "Breast cancer prognostic - no-recurrence, recurrences and lump size"
        },
        "xaxis": {
         "anchor": "y",
         "domain": [
          0,
          1
         ],
         "title": {
          "text": "Tumor size or volume"
         },
         "type": "log"
        },
        "yaxis": {
         "anchor": "x",
         "categoryarray": [
          "R",
          "N"
         ],
         "categoryorder": "array",
         "domain": [
          0,
          1
         ],
         "title": {
          "text": "N as no-recur and R as recur"
         }
        }
       }
      }
     },
     "metadata": {},
     "output_type": "display_data"
    }
   ],
   "source": [
    "fig1 = px.box(df, \n",
    "             y=\"Outcome\", \n",
    "             x='volume', \n",
    "             log_x=True, \n",
    "             points='all', \n",
    "             notched=True,\n",
    "             color='Outcome',\n",
    "             labels={'Outcome':'N as no-recur and R as recur', 'volume': 'Tumor size or volume'}, \n",
    "             title = 'Breast cancer prognostic - no-recurrence, recurrences and lump size', \n",
    "             hover_name='Outcome')\n",
    "\n",
    "fig1.show()"
   ]
  },
  {
   "cell_type": "code",
   "execution_count": 161,
   "metadata": {},
   "outputs": [
    {
     "data": {
      "application/vnd.plotly.v1+json": {
       "config": {
        "plotlyServerURL": "https://plot.ly"
       },
       "data": [
        {
         "alignmentgroup": "True",
         "box": {
          "visible": true
         },
         "hovertemplate": "<b>%{hovertext}</b><br><br>N as no-recur and R as recur=N<br>Tumor size=%{y}<extra></extra>",
         "hovertext": [
          "N",
          "N",
          "N",
          "N",
          "N",
          "N",
          "N",
          "N",
          "N",
          "N",
          "N",
          "N",
          "N",
          "N",
          "N",
          "N",
          "N",
          "N",
          "N",
          "N",
          "N",
          "N",
          "N",
          "N",
          "N",
          "N",
          "N",
          "N",
          "N",
          "N",
          "N",
          "N",
          "N",
          "N",
          "N",
          "N",
          "N",
          "N",
          "N",
          "N",
          "N",
          "N",
          "N",
          "N",
          "N",
          "N",
          "N",
          "N",
          "N",
          "N",
          "N",
          "N",
          "N",
          "N",
          "N",
          "N",
          "N",
          "N",
          "N",
          "N",
          "N",
          "N",
          "N",
          "N",
          "N",
          "N",
          "N",
          "N",
          "N",
          "N",
          "N",
          "N",
          "N",
          "N",
          "N",
          "N",
          "N",
          "N",
          "N",
          "N",
          "N",
          "N",
          "N",
          "N",
          "N",
          "N",
          "N",
          "N",
          "N",
          "N",
          "N",
          "N",
          "N",
          "N",
          "N",
          "N",
          "N",
          "N",
          "N",
          "N",
          "N",
          "N",
          "N",
          "N",
          "N",
          "N",
          "N",
          "N",
          "N",
          "N",
          "N",
          "N",
          "N",
          "N",
          "N",
          "N",
          "N",
          "N",
          "N",
          "N",
          "N",
          "N",
          "N",
          "N",
          "N",
          "N",
          "N",
          "N",
          "N",
          "N",
          "N",
          "N",
          "N",
          "N",
          "N",
          "N",
          "N",
          "N",
          "N",
          "N",
          "N",
          "N",
          "N",
          "N",
          "N",
          "N",
          "N",
          "N",
          "N",
          "N",
          "N"
         ],
         "legendgroup": "N",
         "marker": {
          "color": "#636efa"
         },
         "name": "N",
         "offsetgroup": "N",
         "orientation": "v",
         "points": "all",
         "scalegroup": "True",
         "showlegend": true,
         "type": "violin",
         "x0": " ",
         "xaxis": "x",
         "y": [
          1019.7417852048,
          2093.1737752799995,
          1304.142271504,
          353.29983104639996,
          982.2901886373335,
          258.23205512,
          234.26563937279997,
          488.44723039199994,
          682.3543214015999,
          450.67966249066666,
          554.0267517770667,
          509.2353171221334,
          1488.121365024,
          1670.0939474666668,
          273.728236464,
          1416.1078229128,
          570.00423768,
          883.5997374791999,
          402.2938525866667,
          894.0475939967998,
          1082.8935747279997,
          455.8432543306667,
          647.206145352,
          271.12725639999996,
          1142.0637242613334,
          186.684962144,
          213.78233318399998,
          139.27150473599997,
          357.9210244778666,
          173.43088976159999,
          248.0597768088,
          465.0879662170667,
          383.1411749872,
          991.955862656,
          2375.41416364,
          548.0450656768,
          285.40948234399997,
          469.387146536,
          349.8481586655999,
          499.5615447503999,
          736.293184128,
          1239.0183273599998,
          3986.3613147999995,
          928.6820701911998,
          570.6425353727999,
          183.36900370319998,
          1504.7296992,
          947.0671430976,
          217.010007008,
          1947.3136097999998,
          1812.4947114768001,
          843.7262100533334,
          1477.5144729072001,
          474.8480347482666,
          511.89817369119993,
          1483.6567813952,
          488.94998709600003,
          233.89028360533334,
          420.97334403439993,
          268.00243641599997,
          279.71155368959995,
          584.9814336695999,
          817.2922597205331,
          231.98525230399997,
          1356.7157709610665,
          626.9861969919999,
          1221.4615025946666,
          697.9473527381334,
          421.3867372176,
          234.23984891999996,
          2037.572820624,
          1686.3075694079998,
          382.05034526720004,
          249.92054461866667,
          413.782547596,
          1101.0303775893333,
          3188.0928336693337,
          882.9554415071999,
          921.951070693333,
          444.68749708000007,
          1247.0805306533332,
          407.11929573333333,
          749.6405735424001,
          1681.4469398400001,
          290.81219870693326,
          268.9780854096,
          3304.798689888,
          661.4525833344001,
          1210.3304781610666,
          837.8352617471999,
          362.3547423253333,
          424.26956543999995,
          2135.1323702613336,
          673.2219102335999,
          1153.2051417599998,
          1228.477106208,
          1223.4978991034666,
          1238.4472608351998,
          595.7114553599998,
          1202.6443196768,
          1996.8706568693333,
          1345.4100520832003,
          129.83778955093334,
          401.22075884266667,
          1040.6957753840002,
          1481.3074480485334,
          720.3423259274665,
          511.78404817226675,
          1474.1560640109333,
          1462.4628245450667,
          751.5105435199998,
          459.36520326079994,
          1506.989102528,
          1476.3868232959999,
          372.32146509999995,
          331.43429174986665,
          1395.3281396599998,
          440.10144049973337,
          368.8947856538666,
          427.57377488000003,
          913.1112520101334,
          1003.6426739976001,
          3059.053723968,
          586.455295536,
          290.48548149759995,
          2047.0239893525334,
          2701.5452710399995,
          1528.348571332,
          602.0302540373333,
          552.7811497823999,
          971.1512438677333,
          2049.0232084287995,
          1539.8017198666666,
          390.452900864,
          236.28249528479998,
          2177.829916096,
          607.4136756864,
          2440.8997440959997,
          1197.9227957093333,
          281.94649553840003,
          4974.885560632,
          4017.6980086320004,
          290.80399857599997,
          1539.71983704,
          1007.4053249866668,
          902.6299004426666,
          349.80733414400004,
          3195.896109632,
          362.609400512,
          910.4729636384002,
          835.2777704319998
         ],
         "y0": " ",
         "yaxis": "y"
        },
        {
         "alignmentgroup": "True",
         "box": {
          "visible": true
         },
         "hovertemplate": "<b>%{hovertext}</b><br><br>N as no-recur and R as recur=R<br>Tumor size=%{y}<extra></extra>",
         "hovertext": [
          "R",
          "R",
          "R",
          "R",
          "R",
          "R",
          "R",
          "R",
          "R",
          "R",
          "R",
          "R",
          "R",
          "R",
          "R",
          "R",
          "R",
          "R",
          "R",
          "R",
          "R",
          "R",
          "R",
          "R",
          "R",
          "R",
          "R",
          "R",
          "R",
          "R",
          "R",
          "R",
          "R",
          "R",
          "R",
          "R",
          "R",
          "R",
          "R",
          "R",
          "R",
          "R",
          "R",
          "R",
          "R",
          "R",
          "R"
         ],
         "legendgroup": "R",
         "marker": {
          "color": "#EF553B"
         },
         "name": "R",
         "offsetgroup": "R",
         "orientation": "v",
         "points": "all",
         "scalegroup": "True",
         "showlegend": true,
         "type": "violin",
         "x0": " ",
         "xaxis": "x",
         "y": [
          1449.8228784703997,
          320.98605725999994,
          571.3809103919999,
          393.25907615999995,
          805.6732080298666,
          1787.4679062581333,
          1886.9880655736,
          1120.5840991706664,
          355.29206760000005,
          1529.44664252,
          741.7296319200001,
          386.0372963786666,
          266.812976784,
          843.73582264,
          1594.1072070672,
          851.558356432,
          1224.37211136,
          1871.1513549138663,
          1229.2775888362664,
          1614.4163947296001,
          3155.7679204607994,
          327.698527576,
          304.9559569727999,
          1727.60451908,
          822.7653774791999,
          1232.1484757642663,
          652.7623416911999,
          2995.6672938,
          2355.5222108880002,
          574.5674573333333,
          3045.972345389333,
          1167.03530944,
          3550.3027052704006,
          763.5812842944,
          2569.2190594559997,
          2059.902590666667,
          806.1061369114667,
          220.2136399872,
          623.5067761800001,
          821.8949457408002,
          1103.5478092032,
          1225.3439725088003,
          1214.3434075392,
          6167.7285715200005,
          732.21446166,
          676.0750152159999,
          2757.5121537600003
         ],
         "y0": " ",
         "yaxis": "y"
        }
       ],
       "layout": {
        "legend": {
         "title": {
          "text": "N as no-recur and R as recur"
         },
         "tracegroupgap": 0
        },
        "template": {
         "data": {
          "bar": [
           {
            "error_x": {
             "color": "#2a3f5f"
            },
            "error_y": {
             "color": "#2a3f5f"
            },
            "marker": {
             "line": {
              "color": "#E5ECF6",
              "width": 0.5
             },
             "pattern": {
              "fillmode": "overlay",
              "size": 10,
              "solidity": 0.2
             }
            },
            "type": "bar"
           }
          ],
          "barpolar": [
           {
            "marker": {
             "line": {
              "color": "#E5ECF6",
              "width": 0.5
             },
             "pattern": {
              "fillmode": "overlay",
              "size": 10,
              "solidity": 0.2
             }
            },
            "type": "barpolar"
           }
          ],
          "carpet": [
           {
            "aaxis": {
             "endlinecolor": "#2a3f5f",
             "gridcolor": "white",
             "linecolor": "white",
             "minorgridcolor": "white",
             "startlinecolor": "#2a3f5f"
            },
            "baxis": {
             "endlinecolor": "#2a3f5f",
             "gridcolor": "white",
             "linecolor": "white",
             "minorgridcolor": "white",
             "startlinecolor": "#2a3f5f"
            },
            "type": "carpet"
           }
          ],
          "choropleth": [
           {
            "colorbar": {
             "outlinewidth": 0,
             "ticks": ""
            },
            "type": "choropleth"
           }
          ],
          "contour": [
           {
            "colorbar": {
             "outlinewidth": 0,
             "ticks": ""
            },
            "colorscale": [
             [
              0,
              "#0d0887"
             ],
             [
              0.1111111111111111,
              "#46039f"
             ],
             [
              0.2222222222222222,
              "#7201a8"
             ],
             [
              0.3333333333333333,
              "#9c179e"
             ],
             [
              0.4444444444444444,
              "#bd3786"
             ],
             [
              0.5555555555555556,
              "#d8576b"
             ],
             [
              0.6666666666666666,
              "#ed7953"
             ],
             [
              0.7777777777777778,
              "#fb9f3a"
             ],
             [
              0.8888888888888888,
              "#fdca26"
             ],
             [
              1,
              "#f0f921"
             ]
            ],
            "type": "contour"
           }
          ],
          "contourcarpet": [
           {
            "colorbar": {
             "outlinewidth": 0,
             "ticks": ""
            },
            "type": "contourcarpet"
           }
          ],
          "heatmap": [
           {
            "colorbar": {
             "outlinewidth": 0,
             "ticks": ""
            },
            "colorscale": [
             [
              0,
              "#0d0887"
             ],
             [
              0.1111111111111111,
              "#46039f"
             ],
             [
              0.2222222222222222,
              "#7201a8"
             ],
             [
              0.3333333333333333,
              "#9c179e"
             ],
             [
              0.4444444444444444,
              "#bd3786"
             ],
             [
              0.5555555555555556,
              "#d8576b"
             ],
             [
              0.6666666666666666,
              "#ed7953"
             ],
             [
              0.7777777777777778,
              "#fb9f3a"
             ],
             [
              0.8888888888888888,
              "#fdca26"
             ],
             [
              1,
              "#f0f921"
             ]
            ],
            "type": "heatmap"
           }
          ],
          "heatmapgl": [
           {
            "colorbar": {
             "outlinewidth": 0,
             "ticks": ""
            },
            "colorscale": [
             [
              0,
              "#0d0887"
             ],
             [
              0.1111111111111111,
              "#46039f"
             ],
             [
              0.2222222222222222,
              "#7201a8"
             ],
             [
              0.3333333333333333,
              "#9c179e"
             ],
             [
              0.4444444444444444,
              "#bd3786"
             ],
             [
              0.5555555555555556,
              "#d8576b"
             ],
             [
              0.6666666666666666,
              "#ed7953"
             ],
             [
              0.7777777777777778,
              "#fb9f3a"
             ],
             [
              0.8888888888888888,
              "#fdca26"
             ],
             [
              1,
              "#f0f921"
             ]
            ],
            "type": "heatmapgl"
           }
          ],
          "histogram": [
           {
            "marker": {
             "pattern": {
              "fillmode": "overlay",
              "size": 10,
              "solidity": 0.2
             }
            },
            "type": "histogram"
           }
          ],
          "histogram2d": [
           {
            "colorbar": {
             "outlinewidth": 0,
             "ticks": ""
            },
            "colorscale": [
             [
              0,
              "#0d0887"
             ],
             [
              0.1111111111111111,
              "#46039f"
             ],
             [
              0.2222222222222222,
              "#7201a8"
             ],
             [
              0.3333333333333333,
              "#9c179e"
             ],
             [
              0.4444444444444444,
              "#bd3786"
             ],
             [
              0.5555555555555556,
              "#d8576b"
             ],
             [
              0.6666666666666666,
              "#ed7953"
             ],
             [
              0.7777777777777778,
              "#fb9f3a"
             ],
             [
              0.8888888888888888,
              "#fdca26"
             ],
             [
              1,
              "#f0f921"
             ]
            ],
            "type": "histogram2d"
           }
          ],
          "histogram2dcontour": [
           {
            "colorbar": {
             "outlinewidth": 0,
             "ticks": ""
            },
            "colorscale": [
             [
              0,
              "#0d0887"
             ],
             [
              0.1111111111111111,
              "#46039f"
             ],
             [
              0.2222222222222222,
              "#7201a8"
             ],
             [
              0.3333333333333333,
              "#9c179e"
             ],
             [
              0.4444444444444444,
              "#bd3786"
             ],
             [
              0.5555555555555556,
              "#d8576b"
             ],
             [
              0.6666666666666666,
              "#ed7953"
             ],
             [
              0.7777777777777778,
              "#fb9f3a"
             ],
             [
              0.8888888888888888,
              "#fdca26"
             ],
             [
              1,
              "#f0f921"
             ]
            ],
            "type": "histogram2dcontour"
           }
          ],
          "mesh3d": [
           {
            "colorbar": {
             "outlinewidth": 0,
             "ticks": ""
            },
            "type": "mesh3d"
           }
          ],
          "parcoords": [
           {
            "line": {
             "colorbar": {
              "outlinewidth": 0,
              "ticks": ""
             }
            },
            "type": "parcoords"
           }
          ],
          "pie": [
           {
            "automargin": true,
            "type": "pie"
           }
          ],
          "scatter": [
           {
            "fillpattern": {
             "fillmode": "overlay",
             "size": 10,
             "solidity": 0.2
            },
            "type": "scatter"
           }
          ],
          "scatter3d": [
           {
            "line": {
             "colorbar": {
              "outlinewidth": 0,
              "ticks": ""
             }
            },
            "marker": {
             "colorbar": {
              "outlinewidth": 0,
              "ticks": ""
             }
            },
            "type": "scatter3d"
           }
          ],
          "scattercarpet": [
           {
            "marker": {
             "colorbar": {
              "outlinewidth": 0,
              "ticks": ""
             }
            },
            "type": "scattercarpet"
           }
          ],
          "scattergeo": [
           {
            "marker": {
             "colorbar": {
              "outlinewidth": 0,
              "ticks": ""
             }
            },
            "type": "scattergeo"
           }
          ],
          "scattergl": [
           {
            "marker": {
             "colorbar": {
              "outlinewidth": 0,
              "ticks": ""
             }
            },
            "type": "scattergl"
           }
          ],
          "scattermapbox": [
           {
            "marker": {
             "colorbar": {
              "outlinewidth": 0,
              "ticks": ""
             }
            },
            "type": "scattermapbox"
           }
          ],
          "scatterpolar": [
           {
            "marker": {
             "colorbar": {
              "outlinewidth": 0,
              "ticks": ""
             }
            },
            "type": "scatterpolar"
           }
          ],
          "scatterpolargl": [
           {
            "marker": {
             "colorbar": {
              "outlinewidth": 0,
              "ticks": ""
             }
            },
            "type": "scatterpolargl"
           }
          ],
          "scatterternary": [
           {
            "marker": {
             "colorbar": {
              "outlinewidth": 0,
              "ticks": ""
             }
            },
            "type": "scatterternary"
           }
          ],
          "surface": [
           {
            "colorbar": {
             "outlinewidth": 0,
             "ticks": ""
            },
            "colorscale": [
             [
              0,
              "#0d0887"
             ],
             [
              0.1111111111111111,
              "#46039f"
             ],
             [
              0.2222222222222222,
              "#7201a8"
             ],
             [
              0.3333333333333333,
              "#9c179e"
             ],
             [
              0.4444444444444444,
              "#bd3786"
             ],
             [
              0.5555555555555556,
              "#d8576b"
             ],
             [
              0.6666666666666666,
              "#ed7953"
             ],
             [
              0.7777777777777778,
              "#fb9f3a"
             ],
             [
              0.8888888888888888,
              "#fdca26"
             ],
             [
              1,
              "#f0f921"
             ]
            ],
            "type": "surface"
           }
          ],
          "table": [
           {
            "cells": {
             "fill": {
              "color": "#EBF0F8"
             },
             "line": {
              "color": "white"
             }
            },
            "header": {
             "fill": {
              "color": "#C8D4E3"
             },
             "line": {
              "color": "white"
             }
            },
            "type": "table"
           }
          ]
         },
         "layout": {
          "annotationdefaults": {
           "arrowcolor": "#2a3f5f",
           "arrowhead": 0,
           "arrowwidth": 1
          },
          "autotypenumbers": "strict",
          "coloraxis": {
           "colorbar": {
            "outlinewidth": 0,
            "ticks": ""
           }
          },
          "colorscale": {
           "diverging": [
            [
             0,
             "#8e0152"
            ],
            [
             0.1,
             "#c51b7d"
            ],
            [
             0.2,
             "#de77ae"
            ],
            [
             0.3,
             "#f1b6da"
            ],
            [
             0.4,
             "#fde0ef"
            ],
            [
             0.5,
             "#f7f7f7"
            ],
            [
             0.6,
             "#e6f5d0"
            ],
            [
             0.7,
             "#b8e186"
            ],
            [
             0.8,
             "#7fbc41"
            ],
            [
             0.9,
             "#4d9221"
            ],
            [
             1,
             "#276419"
            ]
           ],
           "sequential": [
            [
             0,
             "#0d0887"
            ],
            [
             0.1111111111111111,
             "#46039f"
            ],
            [
             0.2222222222222222,
             "#7201a8"
            ],
            [
             0.3333333333333333,
             "#9c179e"
            ],
            [
             0.4444444444444444,
             "#bd3786"
            ],
            [
             0.5555555555555556,
             "#d8576b"
            ],
            [
             0.6666666666666666,
             "#ed7953"
            ],
            [
             0.7777777777777778,
             "#fb9f3a"
            ],
            [
             0.8888888888888888,
             "#fdca26"
            ],
            [
             1,
             "#f0f921"
            ]
           ],
           "sequentialminus": [
            [
             0,
             "#0d0887"
            ],
            [
             0.1111111111111111,
             "#46039f"
            ],
            [
             0.2222222222222222,
             "#7201a8"
            ],
            [
             0.3333333333333333,
             "#9c179e"
            ],
            [
             0.4444444444444444,
             "#bd3786"
            ],
            [
             0.5555555555555556,
             "#d8576b"
            ],
            [
             0.6666666666666666,
             "#ed7953"
            ],
            [
             0.7777777777777778,
             "#fb9f3a"
            ],
            [
             0.8888888888888888,
             "#fdca26"
            ],
            [
             1,
             "#f0f921"
            ]
           ]
          },
          "colorway": [
           "#636efa",
           "#EF553B",
           "#00cc96",
           "#ab63fa",
           "#FFA15A",
           "#19d3f3",
           "#FF6692",
           "#B6E880",
           "#FF97FF",
           "#FECB52"
          ],
          "font": {
           "color": "#2a3f5f"
          },
          "geo": {
           "bgcolor": "white",
           "lakecolor": "white",
           "landcolor": "#E5ECF6",
           "showlakes": true,
           "showland": true,
           "subunitcolor": "white"
          },
          "hoverlabel": {
           "align": "left"
          },
          "hovermode": "closest",
          "mapbox": {
           "style": "light"
          },
          "paper_bgcolor": "white",
          "plot_bgcolor": "#E5ECF6",
          "polar": {
           "angularaxis": {
            "gridcolor": "white",
            "linecolor": "white",
            "ticks": ""
           },
           "bgcolor": "#E5ECF6",
           "radialaxis": {
            "gridcolor": "white",
            "linecolor": "white",
            "ticks": ""
           }
          },
          "scene": {
           "xaxis": {
            "backgroundcolor": "#E5ECF6",
            "gridcolor": "white",
            "gridwidth": 2,
            "linecolor": "white",
            "showbackground": true,
            "ticks": "",
            "zerolinecolor": "white"
           },
           "yaxis": {
            "backgroundcolor": "#E5ECF6",
            "gridcolor": "white",
            "gridwidth": 2,
            "linecolor": "white",
            "showbackground": true,
            "ticks": "",
            "zerolinecolor": "white"
           },
           "zaxis": {
            "backgroundcolor": "#E5ECF6",
            "gridcolor": "white",
            "gridwidth": 2,
            "linecolor": "white",
            "showbackground": true,
            "ticks": "",
            "zerolinecolor": "white"
           }
          },
          "shapedefaults": {
           "line": {
            "color": "#2a3f5f"
           }
          },
          "ternary": {
           "aaxis": {
            "gridcolor": "white",
            "linecolor": "white",
            "ticks": ""
           },
           "baxis": {
            "gridcolor": "white",
            "linecolor": "white",
            "ticks": ""
           },
           "bgcolor": "#E5ECF6",
           "caxis": {
            "gridcolor": "white",
            "linecolor": "white",
            "ticks": ""
           }
          },
          "title": {
           "x": 0.05
          },
          "xaxis": {
           "automargin": true,
           "gridcolor": "white",
           "linecolor": "white",
           "ticks": "",
           "title": {
            "standoff": 15
           },
           "zerolinecolor": "white",
           "zerolinewidth": 2
          },
          "yaxis": {
           "automargin": true,
           "gridcolor": "white",
           "linecolor": "white",
           "ticks": "",
           "title": {
            "standoff": 15
           },
           "zerolinecolor": "white",
           "zerolinewidth": 2
          }
         }
        },
        "title": {
         "text": "Breast cancer prognostic - no-recurrence, recurrences and lump size"
        },
        "violinmode": "group",
        "xaxis": {
         "anchor": "y",
         "domain": [
          0,
          1
         ]
        },
        "yaxis": {
         "anchor": "x",
         "domain": [
          0,
          1
         ],
         "title": {
          "text": "Tumor size"
         }
        }
       }
      }
     },
     "metadata": {},
     "output_type": "display_data"
    }
   ],
   "source": [
    "fig2 = px.violin(df, \n",
    "                 y=\"volume\", \n",
    "                 points='all', \n",
    "                 box=True, \n",
    "                 color='Outcome',\n",
    "                 labels={'Outcome':'N as no-recur and R as recur', 'volume': 'Tumor size'}, \n",
    "                 title = 'Breast cancer prognostic - no-recurrence, recurrences and lump size', \n",
    "                 hover_name='Outcome')\n",
    "fig2.show()"
   ]
  },
  {
   "cell_type": "code",
   "execution_count": 162,
   "metadata": {},
   "outputs": [
    {
     "data": {
      "application/vnd.plotly.v1+json": {
       "config": {
        "plotlyServerURL": "https://plot.ly"
       },
       "data": [
        {
         "hovertemplate": "<b>%{hovertext}</b><br><br>N as no-recur and R as recur=N<br>Tumor size=%{x}<br>probability=%{y}<extra></extra>",
         "hovertext": [
          "N",
          "N",
          "N",
          "N",
          "N",
          "N",
          "N",
          "N",
          "N",
          "N",
          "N",
          "N",
          "N",
          "N",
          "N",
          "N",
          "N",
          "N",
          "N",
          "N",
          "N",
          "N",
          "N",
          "N",
          "N",
          "N",
          "N",
          "N",
          "N",
          "N",
          "N",
          "N",
          "N",
          "N",
          "N",
          "N",
          "N",
          "N",
          "N",
          "N",
          "N",
          "N",
          "N",
          "N",
          "N",
          "N",
          "N",
          "N",
          "N",
          "N",
          "N",
          "N",
          "N",
          "N",
          "N",
          "N",
          "N",
          "N",
          "N",
          "N",
          "N",
          "N",
          "N",
          "N",
          "N",
          "N",
          "N",
          "N",
          "N",
          "N",
          "N",
          "N",
          "N",
          "N",
          "N",
          "N",
          "N",
          "N",
          "N",
          "N",
          "N",
          "N",
          "N",
          "N",
          "N",
          "N",
          "N",
          "N",
          "N",
          "N",
          "N",
          "N",
          "N",
          "N",
          "N",
          "N",
          "N",
          "N",
          "N",
          "N",
          "N",
          "N",
          "N",
          "N",
          "N",
          "N",
          "N",
          "N",
          "N",
          "N",
          "N",
          "N",
          "N",
          "N",
          "N",
          "N",
          "N",
          "N",
          "N",
          "N",
          "N",
          "N",
          "N",
          "N",
          "N",
          "N",
          "N",
          "N",
          "N",
          "N",
          "N",
          "N",
          "N",
          "N",
          "N",
          "N",
          "N",
          "N",
          "N",
          "N",
          "N",
          "N",
          "N",
          "N",
          "N",
          "N",
          "N",
          "N",
          "N",
          "N",
          "N"
         ],
         "legendgroup": "N",
         "line": {
          "dash": "solid",
          "shape": "hv"
         },
         "marker": {
          "color": "#636efa",
          "symbol": "circle"
         },
         "mode": "lines",
         "name": "N",
         "orientation": "v",
         "showlegend": true,
         "type": "scatter",
         "x": [
          129.83778955093334,
          139.27150473599997,
          173.43088976159999,
          183.36900370319998,
          186.684962144,
          213.78233318399998,
          217.010007008,
          231.98525230399997,
          233.89028360533334,
          234.23984891999996,
          234.26563937279997,
          236.28249528479998,
          248.0597768088,
          249.92054461866667,
          258.23205512,
          268.00243641599997,
          268.9780854096,
          271.12725639999996,
          273.728236464,
          279.71155368959995,
          281.94649553840003,
          285.40948234399997,
          290.48548149759995,
          290.80399857599997,
          290.81219870693326,
          331.43429174986665,
          349.80733414400004,
          349.8481586655999,
          353.29983104639996,
          357.9210244778666,
          362.3547423253333,
          362.609400512,
          368.8947856538666,
          372.32146509999995,
          382.05034526720004,
          383.1411749872,
          390.452900864,
          401.22075884266667,
          402.2938525866667,
          407.11929573333333,
          413.782547596,
          420.97334403439993,
          421.3867372176,
          424.26956543999995,
          427.57377488000003,
          440.10144049973337,
          444.68749708000007,
          450.67966249066666,
          455.8432543306667,
          459.36520326079994,
          465.0879662170667,
          469.387146536,
          474.8480347482666,
          488.44723039199994,
          488.94998709600003,
          499.5615447503999,
          509.2353171221334,
          511.78404817226675,
          511.89817369119993,
          548.0450656768,
          552.7811497823999,
          554.0267517770667,
          570.00423768,
          570.6425353727999,
          584.9814336695999,
          586.455295536,
          595.7114553599998,
          602.0302540373333,
          607.4136756864,
          626.9861969919999,
          647.206145352,
          661.4525833344001,
          673.2219102335999,
          682.3543214015999,
          697.9473527381334,
          720.3423259274665,
          736.293184128,
          749.6405735424001,
          751.5105435199998,
          817.2922597205331,
          835.2777704319998,
          837.8352617471999,
          843.7262100533334,
          882.9554415071999,
          883.5997374791999,
          894.0475939967998,
          902.6299004426666,
          910.4729636384002,
          913.1112520101334,
          921.951070693333,
          928.6820701911998,
          947.0671430976,
          971.1512438677333,
          982.2901886373335,
          991.955862656,
          1003.6426739976001,
          1007.4053249866668,
          1019.7417852048,
          1040.6957753840002,
          1082.8935747279997,
          1101.0303775893333,
          1142.0637242613334,
          1153.2051417599998,
          1197.9227957093333,
          1202.6443196768,
          1210.3304781610666,
          1221.4615025946666,
          1223.4978991034666,
          1228.477106208,
          1238.4472608351998,
          1239.0183273599998,
          1247.0805306533332,
          1304.142271504,
          1345.4100520832003,
          1356.7157709610665,
          1395.3281396599998,
          1416.1078229128,
          1462.4628245450667,
          1474.1560640109333,
          1476.3868232959999,
          1477.5144729072001,
          1481.3074480485334,
          1483.6567813952,
          1488.121365024,
          1504.7296992,
          1506.989102528,
          1528.348571332,
          1539.71983704,
          1539.8017198666666,
          1670.0939474666668,
          1681.4469398400001,
          1686.3075694079998,
          1812.4947114768001,
          1947.3136097999998,
          1996.8706568693333,
          2037.572820624,
          2047.0239893525334,
          2049.0232084287995,
          2093.1737752799995,
          2135.1323702613336,
          2177.829916096,
          2375.41416364,
          2440.8997440959997,
          2701.5452710399995,
          3059.053723968,
          3188.0928336693337,
          3195.896109632,
          3304.798689888,
          3986.3613147999995,
          4017.6980086320004,
          4974.885560632
         ],
         "xaxis": "x",
         "y": [
          0.006622516556291391,
          0.013245033112582781,
          0.019867549668874173,
          0.026490066225165563,
          0.033112582781456956,
          0.039735099337748346,
          0.046357615894039736,
          0.052980132450331126,
          0.059602649006622516,
          0.06622516556291391,
          0.0728476821192053,
          0.07947019867549669,
          0.08609271523178808,
          0.09271523178807947,
          0.09933774834437085,
          0.10596026490066225,
          0.11258278145695365,
          0.11920529801324503,
          0.12582781456953643,
          0.13245033112582782,
          0.1390728476821192,
          0.1456953642384106,
          0.152317880794702,
          0.15894039735099338,
          0.16556291390728478,
          0.17218543046357615,
          0.17880794701986755,
          0.18543046357615894,
          0.19205298013245034,
          0.1986754966887417,
          0.2052980132450331,
          0.2119205298013245,
          0.2185430463576159,
          0.2251655629139073,
          0.23178807947019867,
          0.23841059602649006,
          0.24503311258278146,
          0.25165562913907286,
          0.2582781456953642,
          0.26490066225165565,
          0.271523178807947,
          0.2781456953642384,
          0.2847682119205298,
          0.2913907284768212,
          0.2980132450331126,
          0.304635761589404,
          0.31125827814569534,
          0.31788079470198677,
          0.32450331125827814,
          0.33112582781456956,
          0.33774834437086093,
          0.3443708609271523,
          0.3509933774834437,
          0.3576158940397351,
          0.36423841059602646,
          0.3708609271523179,
          0.37748344370860926,
          0.3841059602649007,
          0.39072847682119205,
          0.3973509933774834,
          0.40397350993377484,
          0.4105960264900662,
          0.41721854304635764,
          0.423841059602649,
          0.4304635761589404,
          0.4370860927152318,
          0.44370860927152317,
          0.4503311258278146,
          0.45695364238410596,
          0.46357615894039733,
          0.47019867549668876,
          0.4768211920529801,
          0.48344370860927155,
          0.4900662251655629,
          0.4966887417218543,
          0.5033112582781457,
          0.5099337748344371,
          0.5165562913907285,
          0.5231788079470199,
          0.5298013245033113,
          0.5364238410596026,
          0.543046357615894,
          0.5496688741721855,
          0.5562913907284768,
          0.5629139072847682,
          0.5695364238410596,
          0.5761589403973509,
          0.5827814569536424,
          0.5894039735099338,
          0.5960264900662252,
          0.6026490066225165,
          0.609271523178808,
          0.6158940397350994,
          0.6225165562913907,
          0.6291390728476821,
          0.6357615894039735,
          0.6423841059602649,
          0.6490066225165563,
          0.6556291390728477,
          0.6622516556291391,
          0.6688741721854304,
          0.6754966887417219,
          0.6821192052980133,
          0.6887417218543046,
          0.695364238410596,
          0.7019867549668874,
          0.7086092715231788,
          0.7152317880794702,
          0.7218543046357616,
          0.7284768211920529,
          0.7350993377483444,
          0.7417218543046358,
          0.7483443708609272,
          0.7549668874172185,
          0.7615894039735099,
          0.7682119205298014,
          0.7748344370860927,
          0.7814569536423841,
          0.7880794701986755,
          0.7947019867549668,
          0.8013245033112583,
          0.8079470198675497,
          0.8145695364238411,
          0.8211920529801324,
          0.8278145695364238,
          0.8344370860927153,
          0.8410596026490066,
          0.847682119205298,
          0.8543046357615894,
          0.8609271523178808,
          0.8675496688741722,
          0.8741721854304636,
          0.8807947019867549,
          0.8874172185430463,
          0.8940397350993378,
          0.9006622516556292,
          0.9072847682119205,
          0.9139072847682119,
          0.9205298013245033,
          0.9271523178807947,
          0.9337748344370861,
          0.9403973509933775,
          0.9470198675496688,
          0.9536423841059603,
          0.9602649006622517,
          0.9668874172185431,
          0.9735099337748344,
          0.9801324503311258,
          0.9867549668874173,
          0.9933774834437086,
          1
         ],
         "yaxis": "y"
        },
        {
         "alignmentgroup": "True",
         "boxpoints": "all",
         "fillcolor": "rgba(255,255,255,0)",
         "hoveron": "points",
         "hovertemplate": "<b>%{hovertext}</b><br><br>N as no-recur and R as recur=N<br>Tumor size=%{x}<extra></extra>",
         "hovertext": [
          "N",
          "N",
          "N",
          "N",
          "N",
          "N",
          "N",
          "N",
          "N",
          "N",
          "N",
          "N",
          "N",
          "N",
          "N",
          "N",
          "N",
          "N",
          "N",
          "N",
          "N",
          "N",
          "N",
          "N",
          "N",
          "N",
          "N",
          "N",
          "N",
          "N",
          "N",
          "N",
          "N",
          "N",
          "N",
          "N",
          "N",
          "N",
          "N",
          "N",
          "N",
          "N",
          "N",
          "N",
          "N",
          "N",
          "N",
          "N",
          "N",
          "N",
          "N",
          "N",
          "N",
          "N",
          "N",
          "N",
          "N",
          "N",
          "N",
          "N",
          "N",
          "N",
          "N",
          "N",
          "N",
          "N",
          "N",
          "N",
          "N",
          "N",
          "N",
          "N",
          "N",
          "N",
          "N",
          "N",
          "N",
          "N",
          "N",
          "N",
          "N",
          "N",
          "N",
          "N",
          "N",
          "N",
          "N",
          "N",
          "N",
          "N",
          "N",
          "N",
          "N",
          "N",
          "N",
          "N",
          "N",
          "N",
          "N",
          "N",
          "N",
          "N",
          "N",
          "N",
          "N",
          "N",
          "N",
          "N",
          "N",
          "N",
          "N",
          "N",
          "N",
          "N",
          "N",
          "N",
          "N",
          "N",
          "N",
          "N",
          "N",
          "N",
          "N",
          "N",
          "N",
          "N",
          "N",
          "N",
          "N",
          "N",
          "N",
          "N",
          "N",
          "N",
          "N",
          "N",
          "N",
          "N",
          "N",
          "N",
          "N",
          "N",
          "N",
          "N",
          "N",
          "N",
          "N",
          "N",
          "N",
          "N",
          "N"
         ],
         "jitter": 0,
         "legendgroup": "N",
         "line": {
          "color": "rgba(255,255,255,0)"
         },
         "marker": {
          "color": "#636efa",
          "symbol": "line-ns-open"
         },
         "name": "N",
         "offsetgroup": "N",
         "showlegend": false,
         "type": "box",
         "x": [
          129.83778955093334,
          139.27150473599997,
          173.43088976159999,
          183.36900370319998,
          186.684962144,
          213.78233318399998,
          217.010007008,
          231.98525230399997,
          233.89028360533334,
          234.23984891999996,
          234.26563937279997,
          236.28249528479998,
          248.0597768088,
          249.92054461866667,
          258.23205512,
          268.00243641599997,
          268.9780854096,
          271.12725639999996,
          273.728236464,
          279.71155368959995,
          281.94649553840003,
          285.40948234399997,
          290.48548149759995,
          290.80399857599997,
          290.81219870693326,
          331.43429174986665,
          349.80733414400004,
          349.8481586655999,
          353.29983104639996,
          357.9210244778666,
          362.3547423253333,
          362.609400512,
          368.8947856538666,
          372.32146509999995,
          382.05034526720004,
          383.1411749872,
          390.452900864,
          401.22075884266667,
          402.2938525866667,
          407.11929573333333,
          413.782547596,
          420.97334403439993,
          421.3867372176,
          424.26956543999995,
          427.57377488000003,
          440.10144049973337,
          444.68749708000007,
          450.67966249066666,
          455.8432543306667,
          459.36520326079994,
          465.0879662170667,
          469.387146536,
          474.8480347482666,
          488.44723039199994,
          488.94998709600003,
          499.5615447503999,
          509.2353171221334,
          511.78404817226675,
          511.89817369119993,
          548.0450656768,
          552.7811497823999,
          554.0267517770667,
          570.00423768,
          570.6425353727999,
          584.9814336695999,
          586.455295536,
          595.7114553599998,
          602.0302540373333,
          607.4136756864,
          626.9861969919999,
          647.206145352,
          661.4525833344001,
          673.2219102335999,
          682.3543214015999,
          697.9473527381334,
          720.3423259274665,
          736.293184128,
          749.6405735424001,
          751.5105435199998,
          817.2922597205331,
          835.2777704319998,
          837.8352617471999,
          843.7262100533334,
          882.9554415071999,
          883.5997374791999,
          894.0475939967998,
          902.6299004426666,
          910.4729636384002,
          913.1112520101334,
          921.951070693333,
          928.6820701911998,
          947.0671430976,
          971.1512438677333,
          982.2901886373335,
          991.955862656,
          1003.6426739976001,
          1007.4053249866668,
          1019.7417852048,
          1040.6957753840002,
          1082.8935747279997,
          1101.0303775893333,
          1142.0637242613334,
          1153.2051417599998,
          1197.9227957093333,
          1202.6443196768,
          1210.3304781610666,
          1221.4615025946666,
          1223.4978991034666,
          1228.477106208,
          1238.4472608351998,
          1239.0183273599998,
          1247.0805306533332,
          1304.142271504,
          1345.4100520832003,
          1356.7157709610665,
          1395.3281396599998,
          1416.1078229128,
          1462.4628245450667,
          1474.1560640109333,
          1476.3868232959999,
          1477.5144729072001,
          1481.3074480485334,
          1483.6567813952,
          1488.121365024,
          1504.7296992,
          1506.989102528,
          1528.348571332,
          1539.71983704,
          1539.8017198666666,
          1670.0939474666668,
          1681.4469398400001,
          1686.3075694079998,
          1812.4947114768001,
          1947.3136097999998,
          1996.8706568693333,
          2037.572820624,
          2047.0239893525334,
          2049.0232084287995,
          2093.1737752799995,
          2135.1323702613336,
          2177.829916096,
          2375.41416364,
          2440.8997440959997,
          2701.5452710399995,
          3059.053723968,
          3188.0928336693337,
          3195.896109632,
          3304.798689888,
          3986.3613147999995,
          4017.6980086320004,
          4974.885560632
         ],
         "xaxis": "x2",
         "yaxis": "y2"
        },
        {
         "hovertemplate": "<b>%{hovertext}</b><br><br>N as no-recur and R as recur=R<br>Tumor size=%{x}<br>probability=%{y}<extra></extra>",
         "hovertext": [
          "R",
          "R",
          "R",
          "R",
          "R",
          "R",
          "R",
          "R",
          "R",
          "R",
          "R",
          "R",
          "R",
          "R",
          "R",
          "R",
          "R",
          "R",
          "R",
          "R",
          "R",
          "R",
          "R",
          "R",
          "R",
          "R",
          "R",
          "R",
          "R",
          "R",
          "R",
          "R",
          "R",
          "R",
          "R",
          "R",
          "R",
          "R",
          "R",
          "R",
          "R",
          "R",
          "R",
          "R",
          "R",
          "R",
          "R"
         ],
         "legendgroup": "R",
         "line": {
          "dash": "solid",
          "shape": "hv"
         },
         "marker": {
          "color": "#EF553B",
          "symbol": "circle"
         },
         "mode": "lines",
         "name": "R",
         "orientation": "v",
         "showlegend": true,
         "type": "scatter",
         "x": [
          220.2136399872,
          266.812976784,
          304.9559569727999,
          320.98605725999994,
          327.698527576,
          355.29206760000005,
          386.0372963786666,
          393.25907615999995,
          571.3809103919999,
          574.5674573333333,
          623.5067761800001,
          652.7623416911999,
          676.0750152159999,
          732.21446166,
          741.7296319200001,
          763.5812842944,
          805.6732080298666,
          806.1061369114667,
          821.8949457408002,
          822.7653774791999,
          843.73582264,
          851.558356432,
          1103.5478092032,
          1120.5840991706664,
          1167.03530944,
          1214.3434075392,
          1224.37211136,
          1225.3439725088003,
          1229.2775888362664,
          1232.1484757642663,
          1449.8228784703997,
          1529.44664252,
          1594.1072070672,
          1614.4163947296001,
          1727.60451908,
          1787.4679062581333,
          1871.1513549138663,
          1886.9880655736,
          2059.902590666667,
          2355.5222108880002,
          2569.2190594559997,
          2757.5121537600003,
          2995.6672938,
          3045.972345389333,
          3155.7679204607994,
          3550.3027052704006,
          6167.7285715200005
         ],
         "xaxis": "x",
         "y": [
          0.02127659574468085,
          0.0425531914893617,
          0.06382978723404255,
          0.0851063829787234,
          0.10638297872340426,
          0.1276595744680851,
          0.14893617021276595,
          0.1702127659574468,
          0.19148936170212766,
          0.2127659574468085,
          0.23404255319148937,
          0.2553191489361702,
          0.2765957446808511,
          0.2978723404255319,
          0.3191489361702128,
          0.3404255319148936,
          0.3617021276595745,
          0.3829787234042553,
          0.40425531914893614,
          0.425531914893617,
          0.44680851063829785,
          0.46808510638297873,
          0.48936170212765956,
          0.5106382978723404,
          0.5319148936170213,
          0.5531914893617021,
          0.574468085106383,
          0.5957446808510638,
          0.6170212765957447,
          0.6382978723404256,
          0.6595744680851063,
          0.6808510638297872,
          0.7021276595744681,
          0.723404255319149,
          0.7446808510638298,
          0.7659574468085106,
          0.7872340425531915,
          0.8085106382978723,
          0.8297872340425532,
          0.851063829787234,
          0.8723404255319149,
          0.8936170212765957,
          0.9148936170212766,
          0.9361702127659575,
          0.9574468085106383,
          0.9787234042553191,
          1
         ],
         "yaxis": "y"
        },
        {
         "alignmentgroup": "True",
         "boxpoints": "all",
         "fillcolor": "rgba(255,255,255,0)",
         "hoveron": "points",
         "hovertemplate": "<b>%{hovertext}</b><br><br>N as no-recur and R as recur=R<br>Tumor size=%{x}<extra></extra>",
         "hovertext": [
          "R",
          "R",
          "R",
          "R",
          "R",
          "R",
          "R",
          "R",
          "R",
          "R",
          "R",
          "R",
          "R",
          "R",
          "R",
          "R",
          "R",
          "R",
          "R",
          "R",
          "R",
          "R",
          "R",
          "R",
          "R",
          "R",
          "R",
          "R",
          "R",
          "R",
          "R",
          "R",
          "R",
          "R",
          "R",
          "R",
          "R",
          "R",
          "R",
          "R",
          "R",
          "R",
          "R",
          "R",
          "R",
          "R",
          "R"
         ],
         "jitter": 0,
         "legendgroup": "R",
         "line": {
          "color": "rgba(255,255,255,0)"
         },
         "marker": {
          "color": "#EF553B",
          "symbol": "line-ns-open"
         },
         "name": "R",
         "offsetgroup": "R",
         "showlegend": false,
         "type": "box",
         "x": [
          220.2136399872,
          266.812976784,
          304.9559569727999,
          320.98605725999994,
          327.698527576,
          355.29206760000005,
          386.0372963786666,
          393.25907615999995,
          571.3809103919999,
          574.5674573333333,
          623.5067761800001,
          652.7623416911999,
          676.0750152159999,
          732.21446166,
          741.7296319200001,
          763.5812842944,
          805.6732080298666,
          806.1061369114667,
          821.8949457408002,
          822.7653774791999,
          843.73582264,
          851.558356432,
          1103.5478092032,
          1120.5840991706664,
          1167.03530944,
          1214.3434075392,
          1224.37211136,
          1225.3439725088003,
          1229.2775888362664,
          1232.1484757642663,
          1449.8228784703997,
          1529.44664252,
          1594.1072070672,
          1614.4163947296001,
          1727.60451908,
          1787.4679062581333,
          1871.1513549138663,
          1886.9880655736,
          2059.902590666667,
          2355.5222108880002,
          2569.2190594559997,
          2757.5121537600003,
          2995.6672938,
          3045.972345389333,
          3155.7679204607994,
          3550.3027052704006,
          6167.7285715200005
         ],
         "xaxis": "x2",
         "yaxis": "y2"
        }
       ],
       "layout": {
        "legend": {
         "title": {
          "text": "N as no-recur and R as recur"
         },
         "tracegroupgap": 0
        },
        "template": {
         "data": {
          "bar": [
           {
            "error_x": {
             "color": "#2a3f5f"
            },
            "error_y": {
             "color": "#2a3f5f"
            },
            "marker": {
             "line": {
              "color": "#E5ECF6",
              "width": 0.5
             },
             "pattern": {
              "fillmode": "overlay",
              "size": 10,
              "solidity": 0.2
             }
            },
            "type": "bar"
           }
          ],
          "barpolar": [
           {
            "marker": {
             "line": {
              "color": "#E5ECF6",
              "width": 0.5
             },
             "pattern": {
              "fillmode": "overlay",
              "size": 10,
              "solidity": 0.2
             }
            },
            "type": "barpolar"
           }
          ],
          "carpet": [
           {
            "aaxis": {
             "endlinecolor": "#2a3f5f",
             "gridcolor": "white",
             "linecolor": "white",
             "minorgridcolor": "white",
             "startlinecolor": "#2a3f5f"
            },
            "baxis": {
             "endlinecolor": "#2a3f5f",
             "gridcolor": "white",
             "linecolor": "white",
             "minorgridcolor": "white",
             "startlinecolor": "#2a3f5f"
            },
            "type": "carpet"
           }
          ],
          "choropleth": [
           {
            "colorbar": {
             "outlinewidth": 0,
             "ticks": ""
            },
            "type": "choropleth"
           }
          ],
          "contour": [
           {
            "colorbar": {
             "outlinewidth": 0,
             "ticks": ""
            },
            "colorscale": [
             [
              0,
              "#0d0887"
             ],
             [
              0.1111111111111111,
              "#46039f"
             ],
             [
              0.2222222222222222,
              "#7201a8"
             ],
             [
              0.3333333333333333,
              "#9c179e"
             ],
             [
              0.4444444444444444,
              "#bd3786"
             ],
             [
              0.5555555555555556,
              "#d8576b"
             ],
             [
              0.6666666666666666,
              "#ed7953"
             ],
             [
              0.7777777777777778,
              "#fb9f3a"
             ],
             [
              0.8888888888888888,
              "#fdca26"
             ],
             [
              1,
              "#f0f921"
             ]
            ],
            "type": "contour"
           }
          ],
          "contourcarpet": [
           {
            "colorbar": {
             "outlinewidth": 0,
             "ticks": ""
            },
            "type": "contourcarpet"
           }
          ],
          "heatmap": [
           {
            "colorbar": {
             "outlinewidth": 0,
             "ticks": ""
            },
            "colorscale": [
             [
              0,
              "#0d0887"
             ],
             [
              0.1111111111111111,
              "#46039f"
             ],
             [
              0.2222222222222222,
              "#7201a8"
             ],
             [
              0.3333333333333333,
              "#9c179e"
             ],
             [
              0.4444444444444444,
              "#bd3786"
             ],
             [
              0.5555555555555556,
              "#d8576b"
             ],
             [
              0.6666666666666666,
              "#ed7953"
             ],
             [
              0.7777777777777778,
              "#fb9f3a"
             ],
             [
              0.8888888888888888,
              "#fdca26"
             ],
             [
              1,
              "#f0f921"
             ]
            ],
            "type": "heatmap"
           }
          ],
          "heatmapgl": [
           {
            "colorbar": {
             "outlinewidth": 0,
             "ticks": ""
            },
            "colorscale": [
             [
              0,
              "#0d0887"
             ],
             [
              0.1111111111111111,
              "#46039f"
             ],
             [
              0.2222222222222222,
              "#7201a8"
             ],
             [
              0.3333333333333333,
              "#9c179e"
             ],
             [
              0.4444444444444444,
              "#bd3786"
             ],
             [
              0.5555555555555556,
              "#d8576b"
             ],
             [
              0.6666666666666666,
              "#ed7953"
             ],
             [
              0.7777777777777778,
              "#fb9f3a"
             ],
             [
              0.8888888888888888,
              "#fdca26"
             ],
             [
              1,
              "#f0f921"
             ]
            ],
            "type": "heatmapgl"
           }
          ],
          "histogram": [
           {
            "marker": {
             "pattern": {
              "fillmode": "overlay",
              "size": 10,
              "solidity": 0.2
             }
            },
            "type": "histogram"
           }
          ],
          "histogram2d": [
           {
            "colorbar": {
             "outlinewidth": 0,
             "ticks": ""
            },
            "colorscale": [
             [
              0,
              "#0d0887"
             ],
             [
              0.1111111111111111,
              "#46039f"
             ],
             [
              0.2222222222222222,
              "#7201a8"
             ],
             [
              0.3333333333333333,
              "#9c179e"
             ],
             [
              0.4444444444444444,
              "#bd3786"
             ],
             [
              0.5555555555555556,
              "#d8576b"
             ],
             [
              0.6666666666666666,
              "#ed7953"
             ],
             [
              0.7777777777777778,
              "#fb9f3a"
             ],
             [
              0.8888888888888888,
              "#fdca26"
             ],
             [
              1,
              "#f0f921"
             ]
            ],
            "type": "histogram2d"
           }
          ],
          "histogram2dcontour": [
           {
            "colorbar": {
             "outlinewidth": 0,
             "ticks": ""
            },
            "colorscale": [
             [
              0,
              "#0d0887"
             ],
             [
              0.1111111111111111,
              "#46039f"
             ],
             [
              0.2222222222222222,
              "#7201a8"
             ],
             [
              0.3333333333333333,
              "#9c179e"
             ],
             [
              0.4444444444444444,
              "#bd3786"
             ],
             [
              0.5555555555555556,
              "#d8576b"
             ],
             [
              0.6666666666666666,
              "#ed7953"
             ],
             [
              0.7777777777777778,
              "#fb9f3a"
             ],
             [
              0.8888888888888888,
              "#fdca26"
             ],
             [
              1,
              "#f0f921"
             ]
            ],
            "type": "histogram2dcontour"
           }
          ],
          "mesh3d": [
           {
            "colorbar": {
             "outlinewidth": 0,
             "ticks": ""
            },
            "type": "mesh3d"
           }
          ],
          "parcoords": [
           {
            "line": {
             "colorbar": {
              "outlinewidth": 0,
              "ticks": ""
             }
            },
            "type": "parcoords"
           }
          ],
          "pie": [
           {
            "automargin": true,
            "type": "pie"
           }
          ],
          "scatter": [
           {
            "fillpattern": {
             "fillmode": "overlay",
             "size": 10,
             "solidity": 0.2
            },
            "type": "scatter"
           }
          ],
          "scatter3d": [
           {
            "line": {
             "colorbar": {
              "outlinewidth": 0,
              "ticks": ""
             }
            },
            "marker": {
             "colorbar": {
              "outlinewidth": 0,
              "ticks": ""
             }
            },
            "type": "scatter3d"
           }
          ],
          "scattercarpet": [
           {
            "marker": {
             "colorbar": {
              "outlinewidth": 0,
              "ticks": ""
             }
            },
            "type": "scattercarpet"
           }
          ],
          "scattergeo": [
           {
            "marker": {
             "colorbar": {
              "outlinewidth": 0,
              "ticks": ""
             }
            },
            "type": "scattergeo"
           }
          ],
          "scattergl": [
           {
            "marker": {
             "colorbar": {
              "outlinewidth": 0,
              "ticks": ""
             }
            },
            "type": "scattergl"
           }
          ],
          "scattermapbox": [
           {
            "marker": {
             "colorbar": {
              "outlinewidth": 0,
              "ticks": ""
             }
            },
            "type": "scattermapbox"
           }
          ],
          "scatterpolar": [
           {
            "marker": {
             "colorbar": {
              "outlinewidth": 0,
              "ticks": ""
             }
            },
            "type": "scatterpolar"
           }
          ],
          "scatterpolargl": [
           {
            "marker": {
             "colorbar": {
              "outlinewidth": 0,
              "ticks": ""
             }
            },
            "type": "scatterpolargl"
           }
          ],
          "scatterternary": [
           {
            "marker": {
             "colorbar": {
              "outlinewidth": 0,
              "ticks": ""
             }
            },
            "type": "scatterternary"
           }
          ],
          "surface": [
           {
            "colorbar": {
             "outlinewidth": 0,
             "ticks": ""
            },
            "colorscale": [
             [
              0,
              "#0d0887"
             ],
             [
              0.1111111111111111,
              "#46039f"
             ],
             [
              0.2222222222222222,
              "#7201a8"
             ],
             [
              0.3333333333333333,
              "#9c179e"
             ],
             [
              0.4444444444444444,
              "#bd3786"
             ],
             [
              0.5555555555555556,
              "#d8576b"
             ],
             [
              0.6666666666666666,
              "#ed7953"
             ],
             [
              0.7777777777777778,
              "#fb9f3a"
             ],
             [
              0.8888888888888888,
              "#fdca26"
             ],
             [
              1,
              "#f0f921"
             ]
            ],
            "type": "surface"
           }
          ],
          "table": [
           {
            "cells": {
             "fill": {
              "color": "#EBF0F8"
             },
             "line": {
              "color": "white"
             }
            },
            "header": {
             "fill": {
              "color": "#C8D4E3"
             },
             "line": {
              "color": "white"
             }
            },
            "type": "table"
           }
          ]
         },
         "layout": {
          "annotationdefaults": {
           "arrowcolor": "#2a3f5f",
           "arrowhead": 0,
           "arrowwidth": 1
          },
          "autotypenumbers": "strict",
          "coloraxis": {
           "colorbar": {
            "outlinewidth": 0,
            "ticks": ""
           }
          },
          "colorscale": {
           "diverging": [
            [
             0,
             "#8e0152"
            ],
            [
             0.1,
             "#c51b7d"
            ],
            [
             0.2,
             "#de77ae"
            ],
            [
             0.3,
             "#f1b6da"
            ],
            [
             0.4,
             "#fde0ef"
            ],
            [
             0.5,
             "#f7f7f7"
            ],
            [
             0.6,
             "#e6f5d0"
            ],
            [
             0.7,
             "#b8e186"
            ],
            [
             0.8,
             "#7fbc41"
            ],
            [
             0.9,
             "#4d9221"
            ],
            [
             1,
             "#276419"
            ]
           ],
           "sequential": [
            [
             0,
             "#0d0887"
            ],
            [
             0.1111111111111111,
             "#46039f"
            ],
            [
             0.2222222222222222,
             "#7201a8"
            ],
            [
             0.3333333333333333,
             "#9c179e"
            ],
            [
             0.4444444444444444,
             "#bd3786"
            ],
            [
             0.5555555555555556,
             "#d8576b"
            ],
            [
             0.6666666666666666,
             "#ed7953"
            ],
            [
             0.7777777777777778,
             "#fb9f3a"
            ],
            [
             0.8888888888888888,
             "#fdca26"
            ],
            [
             1,
             "#f0f921"
            ]
           ],
           "sequentialminus": [
            [
             0,
             "#0d0887"
            ],
            [
             0.1111111111111111,
             "#46039f"
            ],
            [
             0.2222222222222222,
             "#7201a8"
            ],
            [
             0.3333333333333333,
             "#9c179e"
            ],
            [
             0.4444444444444444,
             "#bd3786"
            ],
            [
             0.5555555555555556,
             "#d8576b"
            ],
            [
             0.6666666666666666,
             "#ed7953"
            ],
            [
             0.7777777777777778,
             "#fb9f3a"
            ],
            [
             0.8888888888888888,
             "#fdca26"
            ],
            [
             1,
             "#f0f921"
            ]
           ]
          },
          "colorway": [
           "#636efa",
           "#EF553B",
           "#00cc96",
           "#ab63fa",
           "#FFA15A",
           "#19d3f3",
           "#FF6692",
           "#B6E880",
           "#FF97FF",
           "#FECB52"
          ],
          "font": {
           "color": "#2a3f5f"
          },
          "geo": {
           "bgcolor": "white",
           "lakecolor": "white",
           "landcolor": "#E5ECF6",
           "showlakes": true,
           "showland": true,
           "subunitcolor": "white"
          },
          "hoverlabel": {
           "align": "left"
          },
          "hovermode": "closest",
          "mapbox": {
           "style": "light"
          },
          "paper_bgcolor": "white",
          "plot_bgcolor": "#E5ECF6",
          "polar": {
           "angularaxis": {
            "gridcolor": "white",
            "linecolor": "white",
            "ticks": ""
           },
           "bgcolor": "#E5ECF6",
           "radialaxis": {
            "gridcolor": "white",
            "linecolor": "white",
            "ticks": ""
           }
          },
          "scene": {
           "xaxis": {
            "backgroundcolor": "#E5ECF6",
            "gridcolor": "white",
            "gridwidth": 2,
            "linecolor": "white",
            "showbackground": true,
            "ticks": "",
            "zerolinecolor": "white"
           },
           "yaxis": {
            "backgroundcolor": "#E5ECF6",
            "gridcolor": "white",
            "gridwidth": 2,
            "linecolor": "white",
            "showbackground": true,
            "ticks": "",
            "zerolinecolor": "white"
           },
           "zaxis": {
            "backgroundcolor": "#E5ECF6",
            "gridcolor": "white",
            "gridwidth": 2,
            "linecolor": "white",
            "showbackground": true,
            "ticks": "",
            "zerolinecolor": "white"
           }
          },
          "shapedefaults": {
           "line": {
            "color": "#2a3f5f"
           }
          },
          "ternary": {
           "aaxis": {
            "gridcolor": "white",
            "linecolor": "white",
            "ticks": ""
           },
           "baxis": {
            "gridcolor": "white",
            "linecolor": "white",
            "ticks": ""
           },
           "bgcolor": "#E5ECF6",
           "caxis": {
            "gridcolor": "white",
            "linecolor": "white",
            "ticks": ""
           }
          },
          "title": {
           "x": 0.05
          },
          "xaxis": {
           "automargin": true,
           "gridcolor": "white",
           "linecolor": "white",
           "ticks": "",
           "title": {
            "standoff": 15
           },
           "zerolinecolor": "white",
           "zerolinewidth": 2
          },
          "yaxis": {
           "automargin": true,
           "gridcolor": "white",
           "linecolor": "white",
           "ticks": "",
           "title": {
            "standoff": 15
           },
           "zerolinecolor": "white",
           "zerolinewidth": 2
          }
         }
        },
        "title": {
         "text": "Breast cancer prognostic - no-recurrence, recurrences and lump size"
        },
        "xaxis": {
         "anchor": "y",
         "domain": [
          0,
          1
         ],
         "title": {
          "text": "Tumor size"
         },
         "type": "log"
        },
        "xaxis2": {
         "anchor": "y2",
         "domain": [
          0,
          1
         ],
         "matches": "x",
         "showgrid": true,
         "showticklabels": false,
         "type": "log"
        },
        "yaxis": {
         "anchor": "x",
         "domain": [
          0,
          0.7326
         ],
         "title": {
          "text": "probability"
         }
        },
        "yaxis2": {
         "anchor": "x2",
         "domain": [
          0.7426,
          1
         ],
         "matches": "y2",
         "showgrid": false,
         "showline": false,
         "showticklabels": false,
         "ticks": ""
        }
       }
      }
     },
     "metadata": {},
     "output_type": "display_data"
    }
   ],
   "source": [
    "\n",
    "fig3 = px.ecdf(df, x=\"volume\", color=\"Outcome\", log_x=True,\n",
    "               labels={'Outcome':'N as no-recur and R as recur', 'volume': 'Tumor size'}, \n",
    "                title = 'Breast cancer prognostic - no-recurrence, recurrences and lump size', \n",
    "                hover_name='Outcome',\n",
    "                markers = False,\n",
    "                lines = True,\n",
    "                marginal=\"rug\")\n",
    "fig3.show()"
   ]
  },
  {
   "cell_type": "code",
   "execution_count": 183,
   "metadata": {},
   "outputs": [
    {
     "data": {
      "application/vnd.plotly.v1+json": {
       "config": {
        "plotlyServerURL": "https://plot.ly"
       },
       "data": [
        {
         "alignmentgroup": "True",
         "bingroup": "x",
         "hovertemplate": "N as no-recur and R as recur=N<br>Tumor size=%{x}<br>count=%{y}<extra></extra>",
         "legendgroup": "N",
         "marker": {
          "color": "#636efa",
          "pattern": {
           "shape": ""
          }
         },
         "name": "N",
         "offsetgroup": "N",
         "orientation": "v",
         "showlegend": true,
         "type": "histogram",
         "x": [
          1019.7417852048,
          2093.1737752799995,
          1304.142271504,
          353.29983104639996,
          982.2901886373335,
          258.23205512,
          234.26563937279997,
          488.44723039199994,
          682.3543214015999,
          450.67966249066666,
          554.0267517770667,
          509.2353171221334,
          1488.121365024,
          1670.0939474666668,
          273.728236464,
          1416.1078229128,
          570.00423768,
          883.5997374791999,
          402.2938525866667,
          894.0475939967998,
          1082.8935747279997,
          455.8432543306667,
          647.206145352,
          271.12725639999996,
          1142.0637242613334,
          186.684962144,
          213.78233318399998,
          139.27150473599997,
          357.9210244778666,
          173.43088976159999,
          248.0597768088,
          465.0879662170667,
          383.1411749872,
          991.955862656,
          2375.41416364,
          548.0450656768,
          285.40948234399997,
          469.387146536,
          349.8481586655999,
          499.5615447503999,
          736.293184128,
          1239.0183273599998,
          3986.3613147999995,
          928.6820701911998,
          570.6425353727999,
          183.36900370319998,
          1504.7296992,
          947.0671430976,
          217.010007008,
          1947.3136097999998,
          1812.4947114768001,
          843.7262100533334,
          1477.5144729072001,
          474.8480347482666,
          511.89817369119993,
          1483.6567813952,
          488.94998709600003,
          233.89028360533334,
          420.97334403439993,
          268.00243641599997,
          279.71155368959995,
          584.9814336695999,
          817.2922597205331,
          231.98525230399997,
          1356.7157709610665,
          626.9861969919999,
          1221.4615025946666,
          697.9473527381334,
          421.3867372176,
          234.23984891999996,
          2037.572820624,
          1686.3075694079998,
          382.05034526720004,
          249.92054461866667,
          413.782547596,
          1101.0303775893333,
          3188.0928336693337,
          882.9554415071999,
          921.951070693333,
          444.68749708000007,
          1247.0805306533332,
          407.11929573333333,
          749.6405735424001,
          1681.4469398400001,
          290.81219870693326,
          268.9780854096,
          3304.798689888,
          661.4525833344001,
          1210.3304781610666,
          837.8352617471999,
          362.3547423253333,
          424.26956543999995,
          2135.1323702613336,
          673.2219102335999,
          1153.2051417599998,
          1228.477106208,
          1223.4978991034666,
          1238.4472608351998,
          595.7114553599998,
          1202.6443196768,
          1996.8706568693333,
          1345.4100520832003,
          129.83778955093334,
          401.22075884266667,
          1040.6957753840002,
          1481.3074480485334,
          720.3423259274665,
          511.78404817226675,
          1474.1560640109333,
          1462.4628245450667,
          751.5105435199998,
          459.36520326079994,
          1506.989102528,
          1476.3868232959999,
          372.32146509999995,
          331.43429174986665,
          1395.3281396599998,
          440.10144049973337,
          368.8947856538666,
          427.57377488000003,
          913.1112520101334,
          1003.6426739976001,
          3059.053723968,
          586.455295536,
          290.48548149759995,
          2047.0239893525334,
          2701.5452710399995,
          1528.348571332,
          602.0302540373333,
          552.7811497823999,
          971.1512438677333,
          2049.0232084287995,
          1539.8017198666666,
          390.452900864,
          236.28249528479998,
          2177.829916096,
          607.4136756864,
          2440.8997440959997,
          1197.9227957093333,
          281.94649553840003,
          4974.885560632,
          4017.6980086320004,
          290.80399857599997,
          1539.71983704,
          1007.4053249866668,
          902.6299004426666,
          349.80733414400004,
          3195.896109632,
          362.609400512,
          910.4729636384002,
          835.2777704319998
         ],
         "xaxis": "x",
         "yaxis": "y"
        },
        {
         "alignmentgroup": "True",
         "hovertemplate": "<b>%{hovertext}</b><br><br>N as no-recur and R as recur=N<br>Tumor size=%{x}<extra></extra>",
         "hovertext": [
          "N",
          "N",
          "N",
          "N",
          "N",
          "N",
          "N",
          "N",
          "N",
          "N",
          "N",
          "N",
          "N",
          "N",
          "N",
          "N",
          "N",
          "N",
          "N",
          "N",
          "N",
          "N",
          "N",
          "N",
          "N",
          "N",
          "N",
          "N",
          "N",
          "N",
          "N",
          "N",
          "N",
          "N",
          "N",
          "N",
          "N",
          "N",
          "N",
          "N",
          "N",
          "N",
          "N",
          "N",
          "N",
          "N",
          "N",
          "N",
          "N",
          "N",
          "N",
          "N",
          "N",
          "N",
          "N",
          "N",
          "N",
          "N",
          "N",
          "N",
          "N",
          "N",
          "N",
          "N",
          "N",
          "N",
          "N",
          "N",
          "N",
          "N",
          "N",
          "N",
          "N",
          "N",
          "N",
          "N",
          "N",
          "N",
          "N",
          "N",
          "N",
          "N",
          "N",
          "N",
          "N",
          "N",
          "N",
          "N",
          "N",
          "N",
          "N",
          "N",
          "N",
          "N",
          "N",
          "N",
          "N",
          "N",
          "N",
          "N",
          "N",
          "N",
          "N",
          "N",
          "N",
          "N",
          "N",
          "N",
          "N",
          "N",
          "N",
          "N",
          "N",
          "N",
          "N",
          "N",
          "N",
          "N",
          "N",
          "N",
          "N",
          "N",
          "N",
          "N",
          "N",
          "N",
          "N",
          "N",
          "N",
          "N",
          "N",
          "N",
          "N",
          "N",
          "N",
          "N",
          "N",
          "N",
          "N",
          "N",
          "N",
          "N",
          "N",
          "N",
          "N",
          "N",
          "N",
          "N",
          "N",
          "N",
          "N"
         ],
         "legendgroup": "N",
         "marker": {
          "color": "#636efa"
         },
         "name": "N",
         "notched": true,
         "offsetgroup": "N",
         "showlegend": false,
         "type": "box",
         "x": [
          1019.7417852048,
          2093.1737752799995,
          1304.142271504,
          353.29983104639996,
          982.2901886373335,
          258.23205512,
          234.26563937279997,
          488.44723039199994,
          682.3543214015999,
          450.67966249066666,
          554.0267517770667,
          509.2353171221334,
          1488.121365024,
          1670.0939474666668,
          273.728236464,
          1416.1078229128,
          570.00423768,
          883.5997374791999,
          402.2938525866667,
          894.0475939967998,
          1082.8935747279997,
          455.8432543306667,
          647.206145352,
          271.12725639999996,
          1142.0637242613334,
          186.684962144,
          213.78233318399998,
          139.27150473599997,
          357.9210244778666,
          173.43088976159999,
          248.0597768088,
          465.0879662170667,
          383.1411749872,
          991.955862656,
          2375.41416364,
          548.0450656768,
          285.40948234399997,
          469.387146536,
          349.8481586655999,
          499.5615447503999,
          736.293184128,
          1239.0183273599998,
          3986.3613147999995,
          928.6820701911998,
          570.6425353727999,
          183.36900370319998,
          1504.7296992,
          947.0671430976,
          217.010007008,
          1947.3136097999998,
          1812.4947114768001,
          843.7262100533334,
          1477.5144729072001,
          474.8480347482666,
          511.89817369119993,
          1483.6567813952,
          488.94998709600003,
          233.89028360533334,
          420.97334403439993,
          268.00243641599997,
          279.71155368959995,
          584.9814336695999,
          817.2922597205331,
          231.98525230399997,
          1356.7157709610665,
          626.9861969919999,
          1221.4615025946666,
          697.9473527381334,
          421.3867372176,
          234.23984891999996,
          2037.572820624,
          1686.3075694079998,
          382.05034526720004,
          249.92054461866667,
          413.782547596,
          1101.0303775893333,
          3188.0928336693337,
          882.9554415071999,
          921.951070693333,
          444.68749708000007,
          1247.0805306533332,
          407.11929573333333,
          749.6405735424001,
          1681.4469398400001,
          290.81219870693326,
          268.9780854096,
          3304.798689888,
          661.4525833344001,
          1210.3304781610666,
          837.8352617471999,
          362.3547423253333,
          424.26956543999995,
          2135.1323702613336,
          673.2219102335999,
          1153.2051417599998,
          1228.477106208,
          1223.4978991034666,
          1238.4472608351998,
          595.7114553599998,
          1202.6443196768,
          1996.8706568693333,
          1345.4100520832003,
          129.83778955093334,
          401.22075884266667,
          1040.6957753840002,
          1481.3074480485334,
          720.3423259274665,
          511.78404817226675,
          1474.1560640109333,
          1462.4628245450667,
          751.5105435199998,
          459.36520326079994,
          1506.989102528,
          1476.3868232959999,
          372.32146509999995,
          331.43429174986665,
          1395.3281396599998,
          440.10144049973337,
          368.8947856538666,
          427.57377488000003,
          913.1112520101334,
          1003.6426739976001,
          3059.053723968,
          586.455295536,
          290.48548149759995,
          2047.0239893525334,
          2701.5452710399995,
          1528.348571332,
          602.0302540373333,
          552.7811497823999,
          971.1512438677333,
          2049.0232084287995,
          1539.8017198666666,
          390.452900864,
          236.28249528479998,
          2177.829916096,
          607.4136756864,
          2440.8997440959997,
          1197.9227957093333,
          281.94649553840003,
          4974.885560632,
          4017.6980086320004,
          290.80399857599997,
          1539.71983704,
          1007.4053249866668,
          902.6299004426666,
          349.80733414400004,
          3195.896109632,
          362.609400512,
          910.4729636384002,
          835.2777704319998
         ],
         "xaxis": "x2",
         "yaxis": "y2"
        },
        {
         "alignmentgroup": "True",
         "bingroup": "x",
         "hovertemplate": "N as no-recur and R as recur=R<br>Tumor size=%{x}<br>count=%{y}<extra></extra>",
         "legendgroup": "R",
         "marker": {
          "color": "#EF553B",
          "pattern": {
           "shape": ""
          }
         },
         "name": "R",
         "offsetgroup": "R",
         "orientation": "v",
         "showlegend": true,
         "type": "histogram",
         "x": [
          1449.8228784703997,
          320.98605725999994,
          571.3809103919999,
          393.25907615999995,
          805.6732080298666,
          1787.4679062581333,
          1886.9880655736,
          1120.5840991706664,
          355.29206760000005,
          1529.44664252,
          741.7296319200001,
          386.0372963786666,
          266.812976784,
          843.73582264,
          1594.1072070672,
          851.558356432,
          1224.37211136,
          1871.1513549138663,
          1229.2775888362664,
          1614.4163947296001,
          3155.7679204607994,
          327.698527576,
          304.9559569727999,
          1727.60451908,
          822.7653774791999,
          1232.1484757642663,
          652.7623416911999,
          2995.6672938,
          2355.5222108880002,
          574.5674573333333,
          3045.972345389333,
          1167.03530944,
          3550.3027052704006,
          763.5812842944,
          2569.2190594559997,
          2059.902590666667,
          806.1061369114667,
          220.2136399872,
          623.5067761800001,
          821.8949457408002,
          1103.5478092032,
          1225.3439725088003,
          1214.3434075392,
          6167.7285715200005,
          732.21446166,
          676.0750152159999,
          2757.5121537600003
         ],
         "xaxis": "x",
         "yaxis": "y"
        },
        {
         "alignmentgroup": "True",
         "hovertemplate": "<b>%{hovertext}</b><br><br>N as no-recur and R as recur=R<br>Tumor size=%{x}<extra></extra>",
         "hovertext": [
          "R",
          "R",
          "R",
          "R",
          "R",
          "R",
          "R",
          "R",
          "R",
          "R",
          "R",
          "R",
          "R",
          "R",
          "R",
          "R",
          "R",
          "R",
          "R",
          "R",
          "R",
          "R",
          "R",
          "R",
          "R",
          "R",
          "R",
          "R",
          "R",
          "R",
          "R",
          "R",
          "R",
          "R",
          "R",
          "R",
          "R",
          "R",
          "R",
          "R",
          "R",
          "R",
          "R",
          "R",
          "R",
          "R",
          "R"
         ],
         "legendgroup": "R",
         "marker": {
          "color": "#EF553B"
         },
         "name": "R",
         "notched": true,
         "offsetgroup": "R",
         "showlegend": false,
         "type": "box",
         "x": [
          1449.8228784703997,
          320.98605725999994,
          571.3809103919999,
          393.25907615999995,
          805.6732080298666,
          1787.4679062581333,
          1886.9880655736,
          1120.5840991706664,
          355.29206760000005,
          1529.44664252,
          741.7296319200001,
          386.0372963786666,
          266.812976784,
          843.73582264,
          1594.1072070672,
          851.558356432,
          1224.37211136,
          1871.1513549138663,
          1229.2775888362664,
          1614.4163947296001,
          3155.7679204607994,
          327.698527576,
          304.9559569727999,
          1727.60451908,
          822.7653774791999,
          1232.1484757642663,
          652.7623416911999,
          2995.6672938,
          2355.5222108880002,
          574.5674573333333,
          3045.972345389333,
          1167.03530944,
          3550.3027052704006,
          763.5812842944,
          2569.2190594559997,
          2059.902590666667,
          806.1061369114667,
          220.2136399872,
          623.5067761800001,
          821.8949457408002,
          1103.5478092032,
          1225.3439725088003,
          1214.3434075392,
          6167.7285715200005,
          732.21446166,
          676.0750152159999,
          2757.5121537600003
         ],
         "xaxis": "x2",
         "yaxis": "y2"
        }
       ],
       "layout": {
        "bargap": 0.1,
        "barmode": "relative",
        "legend": {
         "title": {
          "text": "N as no-recur and R as recur"
         },
         "tracegroupgap": 0
        },
        "template": {
         "data": {
          "bar": [
           {
            "error_x": {
             "color": "#2a3f5f"
            },
            "error_y": {
             "color": "#2a3f5f"
            },
            "marker": {
             "line": {
              "color": "#E5ECF6",
              "width": 0.5
             },
             "pattern": {
              "fillmode": "overlay",
              "size": 10,
              "solidity": 0.2
             }
            },
            "type": "bar"
           }
          ],
          "barpolar": [
           {
            "marker": {
             "line": {
              "color": "#E5ECF6",
              "width": 0.5
             },
             "pattern": {
              "fillmode": "overlay",
              "size": 10,
              "solidity": 0.2
             }
            },
            "type": "barpolar"
           }
          ],
          "carpet": [
           {
            "aaxis": {
             "endlinecolor": "#2a3f5f",
             "gridcolor": "white",
             "linecolor": "white",
             "minorgridcolor": "white",
             "startlinecolor": "#2a3f5f"
            },
            "baxis": {
             "endlinecolor": "#2a3f5f",
             "gridcolor": "white",
             "linecolor": "white",
             "minorgridcolor": "white",
             "startlinecolor": "#2a3f5f"
            },
            "type": "carpet"
           }
          ],
          "choropleth": [
           {
            "colorbar": {
             "outlinewidth": 0,
             "ticks": ""
            },
            "type": "choropleth"
           }
          ],
          "contour": [
           {
            "colorbar": {
             "outlinewidth": 0,
             "ticks": ""
            },
            "colorscale": [
             [
              0,
              "#0d0887"
             ],
             [
              0.1111111111111111,
              "#46039f"
             ],
             [
              0.2222222222222222,
              "#7201a8"
             ],
             [
              0.3333333333333333,
              "#9c179e"
             ],
             [
              0.4444444444444444,
              "#bd3786"
             ],
             [
              0.5555555555555556,
              "#d8576b"
             ],
             [
              0.6666666666666666,
              "#ed7953"
             ],
             [
              0.7777777777777778,
              "#fb9f3a"
             ],
             [
              0.8888888888888888,
              "#fdca26"
             ],
             [
              1,
              "#f0f921"
             ]
            ],
            "type": "contour"
           }
          ],
          "contourcarpet": [
           {
            "colorbar": {
             "outlinewidth": 0,
             "ticks": ""
            },
            "type": "contourcarpet"
           }
          ],
          "heatmap": [
           {
            "colorbar": {
             "outlinewidth": 0,
             "ticks": ""
            },
            "colorscale": [
             [
              0,
              "#0d0887"
             ],
             [
              0.1111111111111111,
              "#46039f"
             ],
             [
              0.2222222222222222,
              "#7201a8"
             ],
             [
              0.3333333333333333,
              "#9c179e"
             ],
             [
              0.4444444444444444,
              "#bd3786"
             ],
             [
              0.5555555555555556,
              "#d8576b"
             ],
             [
              0.6666666666666666,
              "#ed7953"
             ],
             [
              0.7777777777777778,
              "#fb9f3a"
             ],
             [
              0.8888888888888888,
              "#fdca26"
             ],
             [
              1,
              "#f0f921"
             ]
            ],
            "type": "heatmap"
           }
          ],
          "heatmapgl": [
           {
            "colorbar": {
             "outlinewidth": 0,
             "ticks": ""
            },
            "colorscale": [
             [
              0,
              "#0d0887"
             ],
             [
              0.1111111111111111,
              "#46039f"
             ],
             [
              0.2222222222222222,
              "#7201a8"
             ],
             [
              0.3333333333333333,
              "#9c179e"
             ],
             [
              0.4444444444444444,
              "#bd3786"
             ],
             [
              0.5555555555555556,
              "#d8576b"
             ],
             [
              0.6666666666666666,
              "#ed7953"
             ],
             [
              0.7777777777777778,
              "#fb9f3a"
             ],
             [
              0.8888888888888888,
              "#fdca26"
             ],
             [
              1,
              "#f0f921"
             ]
            ],
            "type": "heatmapgl"
           }
          ],
          "histogram": [
           {
            "marker": {
             "pattern": {
              "fillmode": "overlay",
              "size": 10,
              "solidity": 0.2
             }
            },
            "type": "histogram"
           }
          ],
          "histogram2d": [
           {
            "colorbar": {
             "outlinewidth": 0,
             "ticks": ""
            },
            "colorscale": [
             [
              0,
              "#0d0887"
             ],
             [
              0.1111111111111111,
              "#46039f"
             ],
             [
              0.2222222222222222,
              "#7201a8"
             ],
             [
              0.3333333333333333,
              "#9c179e"
             ],
             [
              0.4444444444444444,
              "#bd3786"
             ],
             [
              0.5555555555555556,
              "#d8576b"
             ],
             [
              0.6666666666666666,
              "#ed7953"
             ],
             [
              0.7777777777777778,
              "#fb9f3a"
             ],
             [
              0.8888888888888888,
              "#fdca26"
             ],
             [
              1,
              "#f0f921"
             ]
            ],
            "type": "histogram2d"
           }
          ],
          "histogram2dcontour": [
           {
            "colorbar": {
             "outlinewidth": 0,
             "ticks": ""
            },
            "colorscale": [
             [
              0,
              "#0d0887"
             ],
             [
              0.1111111111111111,
              "#46039f"
             ],
             [
              0.2222222222222222,
              "#7201a8"
             ],
             [
              0.3333333333333333,
              "#9c179e"
             ],
             [
              0.4444444444444444,
              "#bd3786"
             ],
             [
              0.5555555555555556,
              "#d8576b"
             ],
             [
              0.6666666666666666,
              "#ed7953"
             ],
             [
              0.7777777777777778,
              "#fb9f3a"
             ],
             [
              0.8888888888888888,
              "#fdca26"
             ],
             [
              1,
              "#f0f921"
             ]
            ],
            "type": "histogram2dcontour"
           }
          ],
          "mesh3d": [
           {
            "colorbar": {
             "outlinewidth": 0,
             "ticks": ""
            },
            "type": "mesh3d"
           }
          ],
          "parcoords": [
           {
            "line": {
             "colorbar": {
              "outlinewidth": 0,
              "ticks": ""
             }
            },
            "type": "parcoords"
           }
          ],
          "pie": [
           {
            "automargin": true,
            "type": "pie"
           }
          ],
          "scatter": [
           {
            "fillpattern": {
             "fillmode": "overlay",
             "size": 10,
             "solidity": 0.2
            },
            "type": "scatter"
           }
          ],
          "scatter3d": [
           {
            "line": {
             "colorbar": {
              "outlinewidth": 0,
              "ticks": ""
             }
            },
            "marker": {
             "colorbar": {
              "outlinewidth": 0,
              "ticks": ""
             }
            },
            "type": "scatter3d"
           }
          ],
          "scattercarpet": [
           {
            "marker": {
             "colorbar": {
              "outlinewidth": 0,
              "ticks": ""
             }
            },
            "type": "scattercarpet"
           }
          ],
          "scattergeo": [
           {
            "marker": {
             "colorbar": {
              "outlinewidth": 0,
              "ticks": ""
             }
            },
            "type": "scattergeo"
           }
          ],
          "scattergl": [
           {
            "marker": {
             "colorbar": {
              "outlinewidth": 0,
              "ticks": ""
             }
            },
            "type": "scattergl"
           }
          ],
          "scattermapbox": [
           {
            "marker": {
             "colorbar": {
              "outlinewidth": 0,
              "ticks": ""
             }
            },
            "type": "scattermapbox"
           }
          ],
          "scatterpolar": [
           {
            "marker": {
             "colorbar": {
              "outlinewidth": 0,
              "ticks": ""
             }
            },
            "type": "scatterpolar"
           }
          ],
          "scatterpolargl": [
           {
            "marker": {
             "colorbar": {
              "outlinewidth": 0,
              "ticks": ""
             }
            },
            "type": "scatterpolargl"
           }
          ],
          "scatterternary": [
           {
            "marker": {
             "colorbar": {
              "outlinewidth": 0,
              "ticks": ""
             }
            },
            "type": "scatterternary"
           }
          ],
          "surface": [
           {
            "colorbar": {
             "outlinewidth": 0,
             "ticks": ""
            },
            "colorscale": [
             [
              0,
              "#0d0887"
             ],
             [
              0.1111111111111111,
              "#46039f"
             ],
             [
              0.2222222222222222,
              "#7201a8"
             ],
             [
              0.3333333333333333,
              "#9c179e"
             ],
             [
              0.4444444444444444,
              "#bd3786"
             ],
             [
              0.5555555555555556,
              "#d8576b"
             ],
             [
              0.6666666666666666,
              "#ed7953"
             ],
             [
              0.7777777777777778,
              "#fb9f3a"
             ],
             [
              0.8888888888888888,
              "#fdca26"
             ],
             [
              1,
              "#f0f921"
             ]
            ],
            "type": "surface"
           }
          ],
          "table": [
           {
            "cells": {
             "fill": {
              "color": "#EBF0F8"
             },
             "line": {
              "color": "white"
             }
            },
            "header": {
             "fill": {
              "color": "#C8D4E3"
             },
             "line": {
              "color": "white"
             }
            },
            "type": "table"
           }
          ]
         },
         "layout": {
          "annotationdefaults": {
           "arrowcolor": "#2a3f5f",
           "arrowhead": 0,
           "arrowwidth": 1
          },
          "autotypenumbers": "strict",
          "coloraxis": {
           "colorbar": {
            "outlinewidth": 0,
            "ticks": ""
           }
          },
          "colorscale": {
           "diverging": [
            [
             0,
             "#8e0152"
            ],
            [
             0.1,
             "#c51b7d"
            ],
            [
             0.2,
             "#de77ae"
            ],
            [
             0.3,
             "#f1b6da"
            ],
            [
             0.4,
             "#fde0ef"
            ],
            [
             0.5,
             "#f7f7f7"
            ],
            [
             0.6,
             "#e6f5d0"
            ],
            [
             0.7,
             "#b8e186"
            ],
            [
             0.8,
             "#7fbc41"
            ],
            [
             0.9,
             "#4d9221"
            ],
            [
             1,
             "#276419"
            ]
           ],
           "sequential": [
            [
             0,
             "#0d0887"
            ],
            [
             0.1111111111111111,
             "#46039f"
            ],
            [
             0.2222222222222222,
             "#7201a8"
            ],
            [
             0.3333333333333333,
             "#9c179e"
            ],
            [
             0.4444444444444444,
             "#bd3786"
            ],
            [
             0.5555555555555556,
             "#d8576b"
            ],
            [
             0.6666666666666666,
             "#ed7953"
            ],
            [
             0.7777777777777778,
             "#fb9f3a"
            ],
            [
             0.8888888888888888,
             "#fdca26"
            ],
            [
             1,
             "#f0f921"
            ]
           ],
           "sequentialminus": [
            [
             0,
             "#0d0887"
            ],
            [
             0.1111111111111111,
             "#46039f"
            ],
            [
             0.2222222222222222,
             "#7201a8"
            ],
            [
             0.3333333333333333,
             "#9c179e"
            ],
            [
             0.4444444444444444,
             "#bd3786"
            ],
            [
             0.5555555555555556,
             "#d8576b"
            ],
            [
             0.6666666666666666,
             "#ed7953"
            ],
            [
             0.7777777777777778,
             "#fb9f3a"
            ],
            [
             0.8888888888888888,
             "#fdca26"
            ],
            [
             1,
             "#f0f921"
            ]
           ]
          },
          "colorway": [
           "#636efa",
           "#EF553B",
           "#00cc96",
           "#ab63fa",
           "#FFA15A",
           "#19d3f3",
           "#FF6692",
           "#B6E880",
           "#FF97FF",
           "#FECB52"
          ],
          "font": {
           "color": "#2a3f5f"
          },
          "geo": {
           "bgcolor": "white",
           "lakecolor": "white",
           "landcolor": "#E5ECF6",
           "showlakes": true,
           "showland": true,
           "subunitcolor": "white"
          },
          "hoverlabel": {
           "align": "left"
          },
          "hovermode": "closest",
          "mapbox": {
           "style": "light"
          },
          "paper_bgcolor": "white",
          "plot_bgcolor": "#E5ECF6",
          "polar": {
           "angularaxis": {
            "gridcolor": "white",
            "linecolor": "white",
            "ticks": ""
           },
           "bgcolor": "#E5ECF6",
           "radialaxis": {
            "gridcolor": "white",
            "linecolor": "white",
            "ticks": ""
           }
          },
          "scene": {
           "xaxis": {
            "backgroundcolor": "#E5ECF6",
            "gridcolor": "white",
            "gridwidth": 2,
            "linecolor": "white",
            "showbackground": true,
            "ticks": "",
            "zerolinecolor": "white"
           },
           "yaxis": {
            "backgroundcolor": "#E5ECF6",
            "gridcolor": "white",
            "gridwidth": 2,
            "linecolor": "white",
            "showbackground": true,
            "ticks": "",
            "zerolinecolor": "white"
           },
           "zaxis": {
            "backgroundcolor": "#E5ECF6",
            "gridcolor": "white",
            "gridwidth": 2,
            "linecolor": "white",
            "showbackground": true,
            "ticks": "",
            "zerolinecolor": "white"
           }
          },
          "shapedefaults": {
           "line": {
            "color": "#2a3f5f"
           }
          },
          "ternary": {
           "aaxis": {
            "gridcolor": "white",
            "linecolor": "white",
            "ticks": ""
           },
           "baxis": {
            "gridcolor": "white",
            "linecolor": "white",
            "ticks": ""
           },
           "bgcolor": "#E5ECF6",
           "caxis": {
            "gridcolor": "white",
            "linecolor": "white",
            "ticks": ""
           }
          },
          "title": {
           "x": 0.05
          },
          "xaxis": {
           "automargin": true,
           "gridcolor": "white",
           "linecolor": "white",
           "ticks": "",
           "title": {
            "standoff": 15
           },
           "zerolinecolor": "white",
           "zerolinewidth": 2
          },
          "yaxis": {
           "automargin": true,
           "gridcolor": "white",
           "linecolor": "white",
           "ticks": "",
           "title": {
            "standoff": 15
           },
           "zerolinecolor": "white",
           "zerolinewidth": 2
          }
         }
        },
        "title": {
         "text": "Breast cancer prognostic - no-recurrence, recurrences and lump size"
        },
        "xaxis": {
         "anchor": "y",
         "domain": [
          0,
          1
         ],
         "title": {
          "text": "Tumor size"
         }
        },
        "xaxis2": {
         "anchor": "y2",
         "domain": [
          0,
          1
         ],
         "matches": "x",
         "showgrid": true,
         "showticklabels": false
        },
        "yaxis": {
         "anchor": "x",
         "domain": [
          0,
          0.7326
         ],
         "title": {
          "text": "count"
         }
        },
        "yaxis2": {
         "anchor": "x2",
         "domain": [
          0.7426,
          1
         ],
         "matches": "y2",
         "showgrid": false,
         "showline": false,
         "showticklabels": false,
         "ticks": ""
        }
       }
      }
     },
     "metadata": {},
     "output_type": "display_data"
    }
   ],
   "source": [
    "fig4 = px.histogram(df, x=\"volume\", color=\"Outcome\", log_x=False,\n",
    "               labels={'Outcome':'N as no-recur and R as recur', 'volume': 'Tumor size'}, \n",
    "                title = 'Breast cancer prognostic - no-recurrence, recurrences and lump size', \n",
    "                hover_name='Outcome',                        \n",
    "                marginal=\"box\",\n",
    "                \n",
    "                )\n",
    "fig4.update_layout(bargap=0.1)\n",
    "fig4.show()"
   ]
  }
 ],
 "metadata": {
  "kernelspec": {
   "display_name": "Python 3",
   "language": "python",
   "name": "python3"
  },
  "language_info": {
   "codemirror_mode": {
    "name": "ipython",
    "version": 3
   },
   "file_extension": ".py",
   "mimetype": "text/x-python",
   "name": "python",
   "nbconvert_exporter": "python",
   "pygments_lexer": "ipython3",
   "version": "3.12.0"
  }
 },
 "nbformat": 4,
 "nbformat_minor": 2
}
